{
  "nbformat": 4,
  "nbformat_minor": 0,
  "metadata": {
    "colab": {
      "name": "Poshmark_Assignment (2).ipynb",
      "provenance": [],
      "collapsed_sections": []
    },
    "kernelspec": {
      "name": "python3",
      "display_name": "Python 3"
    }
  },
  "cells": [
    {
      "cell_type": "code",
      "metadata": {
        "id": "Qmu0nzK_QfW_"
      },
      "source": [
        "import pandas as pd\n",
        "import numpy as np"
      ],
      "execution_count": 1,
      "outputs": []
    },
    {
      "cell_type": "code",
      "metadata": {
        "id": "OYJc-eOJroGk"
      },
      "source": [
        "import matplotlib.pyplot as plt\n",
        "%matplotlib inline"
      ],
      "execution_count": 2,
      "outputs": []
    },
    {
      "cell_type": "code",
      "metadata": {
        "id": "AeFpzVDcTvxe"
      },
      "source": [
        "import seaborn as sns"
      ],
      "execution_count": 3,
      "outputs": []
    },
    {
      "cell_type": "code",
      "metadata": {
        "id": "gpOf-32F30b4"
      },
      "source": [
        "from tensorflow.keras.layers import Embedding\n",
        "from tensorflow.keras.preprocessing.sequence import pad_sequences\n",
        "from tensorflow.keras.models import Sequential\n",
        "from tensorflow.keras.preprocessing.text import one_hot\n",
        "from tensorflow.keras.layers import LSTM\n",
        "from tensorflow.keras.layers import Dense\n",
        "import nltk\n",
        "import re\n",
        "from nltk.corpus import stopwords"
      ],
      "execution_count": null,
      "outputs": []
    },
    {
      "cell_type": "code",
      "metadata": {
        "id": "WJglJjRfQlof"
      },
      "source": [
        "data=pd.read_csv('/content/drive/My Drive/POSHMARK/ds-take-home-dataset.csv')"
      ],
      "execution_count": 5,
      "outputs": []
    },
    {
      "cell_type": "code",
      "metadata": {
        "id": "MfCMB_BpTcFv"
      },
      "source": [
        "df=data.copy()"
      ],
      "execution_count": 6,
      "outputs": []
    },
    {
      "cell_type": "code",
      "metadata": {
        "id": "joP05O8btof5"
      },
      "source": [
        "#Data Analysis"
      ],
      "execution_count": null,
      "outputs": []
    },
    {
      "cell_type": "code",
      "metadata": {
        "id": "b-8zeOL1Q10S",
        "outputId": "c4454b6a-8c94-4b26-b21d-b505bf5dac24",
        "colab": {
          "base_uri": "https://localhost:8080/",
          "height": 204
        }
      },
      "source": [
        "df.head()"
      ],
      "execution_count": 7,
      "outputs": [
        {
          "output_type": "execute_result",
          "data": {
            "text/html": [
              "<div>\n",
              "<style scoped>\n",
              "    .dataframe tbody tr th:only-of-type {\n",
              "        vertical-align: middle;\n",
              "    }\n",
              "\n",
              "    .dataframe tbody tr th {\n",
              "        vertical-align: top;\n",
              "    }\n",
              "\n",
              "    .dataframe thead th {\n",
              "        text-align: right;\n",
              "    }\n",
              "</style>\n",
              "<table border=\"1\" class=\"dataframe\">\n",
              "  <thead>\n",
              "    <tr style=\"text-align: right;\">\n",
              "      <th></th>\n",
              "      <th>id</th>\n",
              "      <th>attr1</th>\n",
              "      <th>attr2</th>\n",
              "      <th>attr3</th>\n",
              "      <th>attr4</th>\n",
              "      <th>attr5</th>\n",
              "      <th>attr6</th>\n",
              "      <th>title</th>\n",
              "      <th>sold_price</th>\n",
              "    </tr>\n",
              "  </thead>\n",
              "  <tbody>\n",
              "    <tr>\n",
              "      <th>0</th>\n",
              "      <td>742122</td>\n",
              "      <td>4</td>\n",
              "      <td>27</td>\n",
              "      <td>149.0</td>\n",
              "      <td>3808.0</td>\n",
              "      <td>1.0</td>\n",
              "      <td>99.0</td>\n",
              "      <td>one teaspoon bandit distressed denim shorts (23)</td>\n",
              "      <td>65.0</td>\n",
              "    </tr>\n",
              "    <tr>\n",
              "      <th>1</th>\n",
              "      <td>652751</td>\n",
              "      <td>4</td>\n",
              "      <td>3</td>\n",
              "      <td>89.0</td>\n",
              "      <td>1996.0</td>\n",
              "      <td>NaN</td>\n",
              "      <td>1500.0</td>\n",
              "      <td>gucci emily mini guccissima mini red leather bag</td>\n",
              "      <td>600.0</td>\n",
              "    </tr>\n",
              "    <tr>\n",
              "      <th>2</th>\n",
              "      <td>228229</td>\n",
              "      <td>4</td>\n",
              "      <td>26</td>\n",
              "      <td>301.0</td>\n",
              "      <td>5194.0</td>\n",
              "      <td>NaN</td>\n",
              "      <td>89.0</td>\n",
              "      <td>steve madden polka dot wedges 8.5 - wi06</td>\n",
              "      <td>12.0</td>\n",
              "    </tr>\n",
              "    <tr>\n",
              "      <th>3</th>\n",
              "      <td>645810</td>\n",
              "      <td>4</td>\n",
              "      <td>27</td>\n",
              "      <td>NaN</td>\n",
              "      <td>6335.0</td>\n",
              "      <td>NaN</td>\n",
              "      <td>0.0</td>\n",
              "      <td>crown &amp; ivy navy blue floral print shorts</td>\n",
              "      <td>12.0</td>\n",
              "    </tr>\n",
              "    <tr>\n",
              "      <th>4</th>\n",
              "      <td>854374</td>\n",
              "      <td>4</td>\n",
              "      <td>22</td>\n",
              "      <td>302.0</td>\n",
              "      <td>3606.0</td>\n",
              "      <td>2.0</td>\n",
              "      <td>45.0</td>\n",
              "      <td>grey wide leg dress pants</td>\n",
              "      <td>22.0</td>\n",
              "    </tr>\n",
              "  </tbody>\n",
              "</table>\n",
              "</div>"
            ],
            "text/plain": [
              "       id  attr1  ...                                             title  sold_price\n",
              "0  742122      4  ...  one teaspoon bandit distressed denim shorts (23)        65.0\n",
              "1  652751      4  ...  gucci emily mini guccissima mini red leather bag       600.0\n",
              "2  228229      4  ...          steve madden polka dot wedges 8.5 - wi06        12.0\n",
              "3  645810      4  ...         crown & ivy navy blue floral print shorts        12.0\n",
              "4  854374      4  ...                         grey wide leg dress pants        22.0\n",
              "\n",
              "[5 rows x 9 columns]"
            ]
          },
          "metadata": {
            "tags": []
          },
          "execution_count": 7
        }
      ]
    },
    {
      "cell_type": "code",
      "metadata": {
        "id": "w7iUrZz_Q8ku",
        "outputId": "592d851d-2ba2-46eb-e1dd-25f6f35643f8",
        "colab": {
          "base_uri": "https://localhost:8080/"
        }
      },
      "source": [
        "df.shape"
      ],
      "execution_count": 8,
      "outputs": [
        {
          "output_type": "execute_result",
          "data": {
            "text/plain": [
              "(1029850, 9)"
            ]
          },
          "metadata": {
            "tags": []
          },
          "execution_count": 8
        }
      ]
    },
    {
      "cell_type": "code",
      "metadata": {
        "id": "ngfQe61GRQb2",
        "outputId": "035c8a4d-a126-46e0-d785-9a6676c6f185",
        "colab": {
          "base_uri": "https://localhost:8080/"
        }
      },
      "source": [
        "df.duplicated().sum()"
      ],
      "execution_count": 9,
      "outputs": [
        {
          "output_type": "execute_result",
          "data": {
            "text/plain": [
              "10203"
            ]
          },
          "metadata": {
            "tags": []
          },
          "execution_count": 9
        }
      ]
    },
    {
      "cell_type": "code",
      "metadata": {
        "id": "R8ZPRCfBttIm"
      },
      "source": [
        "#Removing duplicate values"
      ],
      "execution_count": null,
      "outputs": []
    },
    {
      "cell_type": "code",
      "metadata": {
        "id": "Y3L67PFcTPl8"
      },
      "source": [
        "df.drop_duplicates(inplace=True)"
      ],
      "execution_count": 10,
      "outputs": []
    },
    {
      "cell_type": "code",
      "metadata": {
        "id": "2loEmx0-U63p"
      },
      "source": [
        "#Checking the Nan Values"
      ],
      "execution_count": 11,
      "outputs": []
    },
    {
      "cell_type": "code",
      "metadata": {
        "id": "iPp4VGpfTwJN",
        "outputId": "3d62e360-8b3c-4fdb-fc68-8b53e30e68f3",
        "colab": {
          "base_uri": "https://localhost:8080/"
        }
      },
      "source": [
        "data.isna().sum()"
      ],
      "execution_count": 279,
      "outputs": [
        {
          "output_type": "execute_result",
          "data": {
            "text/plain": [
              "id                 0\n",
              "attr1              0\n",
              "attr2              0\n",
              "attr3         186770\n",
              "attr4         165433\n",
              "attr5         534186\n",
              "attr6              0\n",
              "title             89\n",
              "sold_price         0\n",
              "dtype: int64"
            ]
          },
          "metadata": {
            "tags": []
          },
          "execution_count": 279
        }
      ]
    },
    {
      "cell_type": "code",
      "metadata": {
        "id": "Y0ddKp1BWkgm"
      },
      "source": [
        "#ATTR1"
      ],
      "execution_count": 19,
      "outputs": []
    },
    {
      "cell_type": "code",
      "metadata": {
        "id": "d7BosJNGn1J6",
        "outputId": "5f2b0f9e-a268-4b64-b089-4c797f883bcb",
        "colab": {
          "base_uri": "https://localhost:8080/"
        }
      },
      "source": [
        "df['attr1'].value_counts()"
      ],
      "execution_count": 20,
      "outputs": [
        {
          "output_type": "execute_result",
          "data": {
            "text/plain": [
              "4    861881\n",
              "3    113106\n",
              "2     35812\n",
              "1      8848\n",
              "Name: attr1, dtype: int64"
            ]
          },
          "metadata": {
            "tags": []
          },
          "execution_count": 20
        }
      ]
    },
    {
      "cell_type": "code",
      "metadata": {
        "id": "MZlt9UxxoONg",
        "outputId": "f89ed75a-9130-4acf-bccf-e9e08a8e83d3",
        "colab": {
          "base_uri": "https://localhost:8080/",
          "height": 265
        }
      },
      "source": [
        "df['attr1'].value_counts().plot(kind='pie')"
      ],
      "execution_count": 22,
      "outputs": [
        {
          "output_type": "execute_result",
          "data": {
            "text/plain": [
              "<matplotlib.axes._subplots.AxesSubplot at 0x7f5d6c88da90>"
            ]
          },
          "metadata": {
            "tags": []
          },
          "execution_count": 22
        },
        {
          "output_type": "display_data",
          "data": {
            "image/png": "[encoded data removed]",
            "text/plain": [
              "<Figure size 432x288 with 1 Axes>"
            ]
          },
          "metadata": {
            "tags": []
          }
        }
      ]
    },
    {
      "cell_type": "code",
      "metadata": {
        "id": "vW6qIraMae7C",
        "outputId": "7a7f44ea-5f48-4b37-f9e2-a6eb2675f3d8",
        "colab": {
          "base_uri": "https://localhost:8080/",
          "height": 350
        }
      },
      "source": [
        "sns.distplot(np.log(df['attr1']))"
      ],
      "execution_count": 23,
      "outputs": [
        {
          "output_type": "stream",
          "text": [
            "/usr/local/lib/python3.6/dist-packages/seaborn/distributions.py:2551: FutureWarning: `distplot` is a deprecated function and will be removed in a future version. Please adapt your code to use either `displot` (a figure-level function with similar flexibility) or `histplot` (an axes-level function for histograms).\n",
            "  warnings.warn(msg, FutureWarning)\n"
          ],
          "name": "stderr"
        },
        {
          "output_type": "execute_result",
          "data": {
            "text/plain": [
              "<matplotlib.axes._subplots.AxesSubplot at 0x7f5d6c6e1b00>"
            ]
          },
          "metadata": {
            "tags": []
          },
          "execution_count": 23
        },
        {
          "output_type": "display_data",
          "data": {
            "image/png": "[encoded data removed]",
            "text/plain": [
              "<Figure size 432x288 with 1 Axes>"
            ]
          },
          "metadata": {
            "tags": [],
            "needs_background": "light"
          }
        }
      ]
    },
    {
      "cell_type": "code",
      "metadata": {
        "id": "bFTCMJK9u3oB"
      },
      "source": [
        "#Not going to do anything for the feature ATTR1"
      ],
      "execution_count": null,
      "outputs": []
    },
    {
      "cell_type": "code",
      "metadata": {
        "id": "QHUd73pjXHO_"
      },
      "source": [
        "#ATTR2"
      ],
      "execution_count": null,
      "outputs": []
    },
    {
      "cell_type": "code",
      "metadata": {
        "id": "N6Z_HY4boY-E",
        "outputId": "075444c1-4fb6-4c2c-dc36-814a159f6522",
        "colab": {
          "base_uri": "https://localhost:8080/"
        }
      },
      "source": [
        "checkVal(data['attr2'])"
      ],
      "execution_count": null,
      "outputs": [
        {
          "output_type": "stream",
          "text": [
            "3     219721\n",
            "26    203988\n",
            "33     85095\n",
            "9      74328\n",
            "2      70963\n",
            "12     64967\n",
            "14     60705\n",
            "22     39328\n",
            "31     30584\n",
            "13     30433\n",
            "20     26573\n",
            "24     21971\n",
            "27     18030\n",
            "11     16379\n",
            "16     14449\n",
            "32     13158\n",
            "28     13157\n",
            "25      6354\n",
            "6       4846\n",
            "17      2077\n",
            "1       1843\n",
            "30      1636\n",
            "19      1325\n",
            "21      1125\n",
            "15      1038\n",
            "5       1008\n",
            "34       866\n",
            "10       760\n",
            "7        677\n",
            "8        672\n",
            "35       591\n",
            "18       576\n",
            "29       265\n",
            "4        236\n",
            "23       126\n",
            "Name: attr2, dtype: int64\n"
          ],
          "name": "stdout"
        }
      ]
    },
    {
      "cell_type": "code",
      "metadata": {
        "id": "EzosBr-PoZUC",
        "outputId": "2ee7185e-5a76-4c01-e8ab-b49e8413ea17",
        "colab": {
          "base_uri": "https://localhost:8080/"
        }
      },
      "source": [
        "data['attr2'].nunique()"
      ],
      "execution_count": null,
      "outputs": [
        {
          "output_type": "execute_result",
          "data": {
            "text/plain": [
              "35"
            ]
          },
          "metadata": {
            "tags": []
          },
          "execution_count": 27
        }
      ]
    },
    {
      "cell_type": "code",
      "metadata": {
        "id": "oyMGyguwvBeW"
      },
      "source": [
        "#Not going to do anything for the feature ATTR2"
      ],
      "execution_count": null,
      "outputs": []
    },
    {
      "cell_type": "code",
      "metadata": {
        "id": "9UO8dKKEovSi"
      },
      "source": [
        "#ATTR3"
      ],
      "execution_count": 28,
      "outputs": []
    },
    {
      "cell_type": "code",
      "metadata": {
        "id": "TqUtmpwdovk0",
        "outputId": "0b0a3183-69cb-4fff-8678-35e28b2ee07c",
        "colab": {
          "base_uri": "https://localhost:8080/",
          "height": 419
        }
      },
      "source": [
        "df[df['attr3'].isna()]"
      ],
      "execution_count": 29,
      "outputs": [
        {
          "output_type": "execute_result",
          "data": {
            "text/html": [
              "<div>\n",
              "<style scoped>\n",
              "    .dataframe tbody tr th:only-of-type {\n",
              "        vertical-align: middle;\n",
              "    }\n",
              "\n",
              "    .dataframe tbody tr th {\n",
              "        vertical-align: top;\n",
              "    }\n",
              "\n",
              "    .dataframe thead th {\n",
              "        text-align: right;\n",
              "    }\n",
              "</style>\n",
              "<table border=\"1\" class=\"dataframe\">\n",
              "  <thead>\n",
              "    <tr style=\"text-align: right;\">\n",
              "      <th></th>\n",
              "      <th>id</th>\n",
              "      <th>attr1</th>\n",
              "      <th>attr2</th>\n",
              "      <th>attr3</th>\n",
              "      <th>attr4</th>\n",
              "      <th>attr5</th>\n",
              "      <th>attr6</th>\n",
              "      <th>title</th>\n",
              "      <th>sold_price</th>\n",
              "    </tr>\n",
              "  </thead>\n",
              "  <tbody>\n",
              "    <tr>\n",
              "      <th>3</th>\n",
              "      <td>645810</td>\n",
              "      <td>4</td>\n",
              "      <td>27</td>\n",
              "      <td>NaN</td>\n",
              "      <td>6335.0</td>\n",
              "      <td>NaN</td>\n",
              "      <td>0.0</td>\n",
              "      <td>crown &amp; ivy navy blue floral print shorts</td>\n",
              "      <td>12.00</td>\n",
              "    </tr>\n",
              "    <tr>\n",
              "      <th>9</th>\n",
              "      <td>577777</td>\n",
              "      <td>3</td>\n",
              "      <td>12</td>\n",
              "      <td>NaN</td>\n",
              "      <td>NaN</td>\n",
              "      <td>1.0</td>\n",
              "      <td>50.0</td>\n",
              "      <td>linkin park hoodie</td>\n",
              "      <td>22.00</td>\n",
              "    </tr>\n",
              "    <tr>\n",
              "      <th>12</th>\n",
              "      <td>217996</td>\n",
              "      <td>4</td>\n",
              "      <td>3</td>\n",
              "      <td>NaN</td>\n",
              "      <td>3075.0</td>\n",
              "      <td>NaN</td>\n",
              "      <td>0.0</td>\n",
              "      <td>malono blahnik bag</td>\n",
              "      <td>10.00</td>\n",
              "    </tr>\n",
              "    <tr>\n",
              "      <th>21</th>\n",
              "      <td>217702</td>\n",
              "      <td>4</td>\n",
              "      <td>3</td>\n",
              "      <td>NaN</td>\n",
              "      <td>1228.0</td>\n",
              "      <td>NaN</td>\n",
              "      <td>99.0</td>\n",
              "      <td>coach patchwork bag</td>\n",
              "      <td>50.00</td>\n",
              "    </tr>\n",
              "    <tr>\n",
              "      <th>27</th>\n",
              "      <td>92609</td>\n",
              "      <td>4</td>\n",
              "      <td>31</td>\n",
              "      <td>NaN</td>\n",
              "      <td>4356.0</td>\n",
              "      <td>NaN</td>\n",
              "      <td>130.0</td>\n",
              "      <td>cute cashmere ralph lauren sweater</td>\n",
              "      <td>35.00</td>\n",
              "    </tr>\n",
              "    <tr>\n",
              "      <th>...</th>\n",
              "      <td>...</td>\n",
              "      <td>...</td>\n",
              "      <td>...</td>\n",
              "      <td>...</td>\n",
              "      <td>...</td>\n",
              "      <td>...</td>\n",
              "      <td>...</td>\n",
              "      <td>...</td>\n",
              "      <td>...</td>\n",
              "    </tr>\n",
              "    <tr>\n",
              "      <th>1029824</th>\n",
              "      <td>225007</td>\n",
              "      <td>4</td>\n",
              "      <td>12</td>\n",
              "      <td>NaN</td>\n",
              "      <td>4734.0</td>\n",
              "      <td>NaN</td>\n",
              "      <td>5500.0</td>\n",
              "      <td>biker jacket saint laurent</td>\n",
              "      <td>1000.00</td>\n",
              "    </tr>\n",
              "    <tr>\n",
              "      <th>1029829</th>\n",
              "      <td>902048</td>\n",
              "      <td>4</td>\n",
              "      <td>3</td>\n",
              "      <td>NaN</td>\n",
              "      <td>982.0</td>\n",
              "      <td>1.0</td>\n",
              "      <td>0.0</td>\n",
              "      <td>authentic chanel sports black neon orange poch...</td>\n",
              "      <td>250.00</td>\n",
              "    </tr>\n",
              "    <tr>\n",
              "      <th>1029843</th>\n",
              "      <td>123071</td>\n",
              "      <td>4</td>\n",
              "      <td>26</td>\n",
              "      <td>NaN</td>\n",
              "      <td>4999.0</td>\n",
              "      <td>2.0</td>\n",
              "      <td>55.0</td>\n",
              "      <td>bobs by skechers</td>\n",
              "      <td>30.00</td>\n",
              "    </tr>\n",
              "    <tr>\n",
              "      <th>1029844</th>\n",
              "      <td>865472</td>\n",
              "      <td>4</td>\n",
              "      <td>33</td>\n",
              "      <td>NaN</td>\n",
              "      <td>6049.0</td>\n",
              "      <td>1.0</td>\n",
              "      <td>130.0</td>\n",
              "      <td>white house black market silk/lace top/shirt, m</td>\n",
              "      <td>14.81</td>\n",
              "    </tr>\n",
              "    <tr>\n",
              "      <th>1029848</th>\n",
              "      <td>622035</td>\n",
              "      <td>3</td>\n",
              "      <td>24</td>\n",
              "      <td>NaN</td>\n",
              "      <td>NaN</td>\n",
              "      <td>2.0</td>\n",
              "      <td>100.0</td>\n",
              "      <td>zion williamson new orlean pelicans jersey</td>\n",
              "      <td>55.00</td>\n",
              "    </tr>\n",
              "  </tbody>\n",
              "</table>\n",
              "<p>184946 rows × 9 columns</p>\n",
              "</div>"
            ],
            "text/plain": [
              "             id  ...  sold_price\n",
              "3        645810  ...       12.00\n",
              "9        577777  ...       22.00\n",
              "12       217996  ...       10.00\n",
              "21       217702  ...       50.00\n",
              "27        92609  ...       35.00\n",
              "...         ...  ...         ...\n",
              "1029824  225007  ...     1000.00\n",
              "1029829  902048  ...      250.00\n",
              "1029843  123071  ...       30.00\n",
              "1029844  865472  ...       14.81\n",
              "1029848  622035  ...       55.00\n",
              "\n",
              "[184946 rows x 9 columns]"
            ]
          },
          "metadata": {
            "tags": []
          },
          "execution_count": 29
        }
      ]
    },
    {
      "cell_type": "code",
      "metadata": {
        "id": "G-OhdDe3vYIy"
      },
      "source": [
        "#filling the remaining null values with the median respective to attr1 and attr2"
      ],
      "execution_count": null,
      "outputs": []
    },
    {
      "cell_type": "code",
      "metadata": {
        "id": "JEueR6dvIrJB"
      },
      "source": [
        "for i in range(1,36):\n",
        "  df.loc[(df['attr1']==4) & (df['attr2']==i) &(df['attr3'].isna()),'attr3']=df[(df['attr1']==4) & (df['attr2']==i) &(df['attr3'].notna())]['attr3'].median()"
      ],
      "execution_count": 84,
      "outputs": []
    },
    {
      "cell_type": "code",
      "metadata": {
        "id": "8HrleD8MIrV8"
      },
      "source": [
        "for i in range(1,36):\n",
        "  df.loc[(df['attr1']==3) & (df['attr2']==i) &(df['attr3'].isna()),'attr3']=df[(df['attr1']==3) & (df['attr2']==i) &(df['attr3'].notna())]['attr3'].median()"
      ],
      "execution_count": 85,
      "outputs": []
    },
    {
      "cell_type": "code",
      "metadata": {
        "id": "WCCjbIr8MsPc"
      },
      "source": [
        "for i in range(1,36):\n",
        "  df.loc[(df['attr1']==2) & (df['attr2']==i) &(df['attr3'].isna()),'attr3']=df[(df['attr1']==2) & (df['attr2']==i) &(df['attr3'].notna())]['attr3'].median()"
      ],
      "execution_count": 86,
      "outputs": []
    },
    {
      "cell_type": "code",
      "metadata": {
        "id": "FNCdPJFkMszl"
      },
      "source": [
        "for i in range(1,36):\n",
        "  df.loc[(df['attr1']==1) & (df['attr2']==i) &(df['attr3'].isna()),'attr3']=df[(df['attr1']==1) & (df['attr2']==i) &(df['attr3'].notna())]['attr3'].median()"
      ],
      "execution_count": 87,
      "outputs": []
    },
    {
      "cell_type": "code",
      "metadata": {
        "id": "lCMHIvr8sCtJ"
      },
      "source": [
        ""
      ],
      "execution_count": null,
      "outputs": []
    },
    {
      "cell_type": "code",
      "metadata": {
        "id": "uH6r9duxr8oY"
      },
      "source": [
        "#filling the remaining null values with the median respective to attr1"
      ],
      "execution_count": 102,
      "outputs": []
    },
    {
      "cell_type": "code",
      "metadata": {
        "id": "4M5O1zbbimIY"
      },
      "source": [
        "df.loc[(data['attr1'] == 1 ) & (data['attr3'].isnull()), 'attr3']=df[df['attr1']==1]['attr3'].median()"
      ],
      "execution_count": 106,
      "outputs": []
    },
    {
      "cell_type": "code",
      "metadata": {
        "id": "tOaf5Mmfr5uX"
      },
      "source": [
        "df.loc[(data['attr1'] == 2 ) & (data['attr3'].isnull()), 'attr3']=df[df['attr1']==2]['attr3'].median()"
      ],
      "execution_count": 103,
      "outputs": []
    },
    {
      "cell_type": "code",
      "metadata": {
        "id": "hdYDf8ryr59q"
      },
      "source": [
        "df.loc[(data['attr1'] == 3 ) & (data['attr3'].isnull()), 'attr3']=df[df['attr1']==3]['attr3'].median()"
      ],
      "execution_count": 104,
      "outputs": []
    },
    {
      "cell_type": "code",
      "metadata": {
        "id": "91Fv9de_r5da"
      },
      "source": [
        "df.loc[(data['attr1'] == 4 ) & (data['attr3'].isnull()), 'attr3']=df[df['attr1']==4]['attr3'].median()"
      ],
      "execution_count": 105,
      "outputs": []
    },
    {
      "cell_type": "code",
      "metadata": {
        "id": "8UH4e9hXMv-X",
        "outputId": "a58be76f-5184-495b-b1f9-754b9e27ce17",
        "colab": {
          "base_uri": "https://localhost:8080/",
          "height": 350
        }
      },
      "source": [
        "sns.distplot(df['attr3'])"
      ],
      "execution_count": 107,
      "outputs": [
        {
          "output_type": "stream",
          "text": [
            "/usr/local/lib/python3.6/dist-packages/seaborn/distributions.py:2551: FutureWarning: `distplot` is a deprecated function and will be removed in a future version. Please adapt your code to use either `displot` (a figure-level function with similar flexibility) or `histplot` (an axes-level function for histograms).\n",
            "  warnings.warn(msg, FutureWarning)\n"
          ],
          "name": "stderr"
        },
        {
          "output_type": "execute_result",
          "data": {
            "text/plain": [
              "<matplotlib.axes._subplots.AxesSubplot at 0x7f5d610ec6d8>"
            ]
          },
          "metadata": {
            "tags": []
          },
          "execution_count": 107
        },
        {
          "output_type": "display_data",
          "data": {
            "image/png": "[encoded data removed]",
            "text/plain": [
              "<Figure size 432x288 with 1 Axes>"
            ]
          },
          "metadata": {
            "tags": [],
            "needs_background": "light"
          }
        }
      ]
    },
    {
      "cell_type": "code",
      "metadata": {
        "id": "rwStUDPGMskq"
      },
      "source": [
        "#attr4"
      ],
      "execution_count": 110,
      "outputs": []
    },
    {
      "cell_type": "code",
      "metadata": {
        "id": "Or2RDsnkN4ZO",
        "outputId": "0cf852fe-cb51-4544-c80e-30fe9ae85b7c",
        "colab": {
          "base_uri": "https://localhost:8080/",
          "height": 350
        }
      },
      "source": [
        "sns.distplot(df['attr4'])"
      ],
      "execution_count": 111,
      "outputs": [
        {
          "output_type": "stream",
          "text": [
            "/usr/local/lib/python3.6/dist-packages/seaborn/distributions.py:2551: FutureWarning: `distplot` is a deprecated function and will be removed in a future version. Please adapt your code to use either `displot` (a figure-level function with similar flexibility) or `histplot` (an axes-level function for histograms).\n",
            "  warnings.warn(msg, FutureWarning)\n"
          ],
          "name": "stderr"
        },
        {
          "output_type": "execute_result",
          "data": {
            "text/plain": [
              "<matplotlib.axes._subplots.AxesSubplot at 0x7f5d6109efd0>"
            ]
          },
          "metadata": {
            "tags": []
          },
          "execution_count": 111
        },
        {
          "output_type": "display_data",
          "data": {
            "image/png": "[encoded data removed]",
            "text/plain": [
              "<Figure size 432x288 with 1 Axes>"
            ]
          },
          "metadata": {
            "tags": [],
            "needs_background": "light"
          }
        }
      ]
    },
    {
      "cell_type": "code",
      "metadata": {
        "id": "3IhSIhHFnHIc",
        "outputId": "e39fde8f-c2dc-4e3a-e259-f1f2ffa9dc90",
        "colab": {
          "base_uri": "https://localhost:8080/"
        }
      },
      "source": [
        "df['attr4'].value_counts()"
      ],
      "execution_count": 113,
      "outputs": [
        {
          "output_type": "execute_result",
          "data": {
            "text/plain": [
              "2896.0    80312\n",
              "1996.0    43015\n",
              "982.0     25799\n",
              "1170.0    20013\n",
              "3639.0    19139\n",
              "          ...  \n",
              "5511.0        1\n",
              "4756.0        1\n",
              "427.0         1\n",
              "3095.0        1\n",
              "5534.0        1\n",
              "Name: attr4, Length: 6640, dtype: int64"
            ]
          },
          "metadata": {
            "tags": []
          },
          "execution_count": 113
        }
      ]
    },
    {
      "cell_type": "code",
      "metadata": {
        "id": "N6WCPsx5N4M3",
        "outputId": "45e481cc-5706-40b3-e2c2-c3aff41d5e92",
        "colab": {
          "base_uri": "https://localhost:8080/"
        }
      },
      "source": [
        "df['attr4'].isna().sum()"
      ],
      "execution_count": 114,
      "outputs": [
        {
          "output_type": "execute_result",
          "data": {
            "text/plain": [
              "163773"
            ]
          },
          "metadata": {
            "tags": []
          },
          "execution_count": 114
        }
      ]
    },
    {
      "cell_type": "code",
      "metadata": {
        "id": "tRANYCbEvamj"
      },
      "source": [
        "#Filing with 999999999 since attr4 is brand code and if it is null then it seems there is no brand name specified."
      ],
      "execution_count": 125,
      "outputs": []
    },
    {
      "cell_type": "code",
      "metadata": {
        "id": "mMdVq2Kwtre6"
      },
      "source": [
        "df['attr4'].fillna(999999999,inplace=True)"
      ],
      "execution_count": 126,
      "outputs": []
    },
    {
      "cell_type": "code",
      "metadata": {
        "id": "uQostYfCvo4B",
        "outputId": "89d64424-cee1-42c5-e54b-d55601d6a259",
        "colab": {
          "base_uri": "https://localhost:8080/",
          "height": 49
        }
      },
      "source": [
        "df[df['attr4']==0]"
      ],
      "execution_count": 128,
      "outputs": [
        {
          "output_type": "execute_result",
          "data": {
            "text/html": [
              "<div>\n",
              "<style scoped>\n",
              "    .dataframe tbody tr th:only-of-type {\n",
              "        vertical-align: middle;\n",
              "    }\n",
              "\n",
              "    .dataframe tbody tr th {\n",
              "        vertical-align: top;\n",
              "    }\n",
              "\n",
              "    .dataframe thead th {\n",
              "        text-align: right;\n",
              "    }\n",
              "</style>\n",
              "<table border=\"1\" class=\"dataframe\">\n",
              "  <thead>\n",
              "    <tr style=\"text-align: right;\">\n",
              "      <th></th>\n",
              "      <th>id</th>\n",
              "      <th>attr1</th>\n",
              "      <th>attr2</th>\n",
              "      <th>attr3</th>\n",
              "      <th>attr4</th>\n",
              "      <th>attr5</th>\n",
              "      <th>attr6</th>\n",
              "      <th>title</th>\n",
              "      <th>sold_price</th>\n",
              "    </tr>\n",
              "  </thead>\n",
              "  <tbody>\n",
              "  </tbody>\n",
              "</table>\n",
              "</div>"
            ],
            "text/plain": [
              "Empty DataFrame\n",
              "Columns: [id, attr1, attr2, attr3, attr4, attr5, attr6, title, sold_price]\n",
              "Index: []"
            ]
          },
          "metadata": {
            "tags": []
          },
          "execution_count": 128
        }
      ]
    },
    {
      "cell_type": "code",
      "metadata": {
        "id": "USnBsA3LQP1Y",
        "outputId": "7cde5357-a7fd-4f79-bc4d-af3e100e141c",
        "colab": {
          "base_uri": "https://localhost:8080/",
          "height": 361
        }
      },
      "source": [
        "sns.distplot(df['attr4'])"
      ],
      "execution_count": 127,
      "outputs": [
        {
          "output_type": "stream",
          "text": [
            "/usr/local/lib/python3.6/dist-packages/seaborn/distributions.py:2551: FutureWarning: `distplot` is a deprecated function and will be removed in a future version. Please adapt your code to use either `displot` (a figure-level function with similar flexibility) or `histplot` (an axes-level function for histograms).\n",
            "  warnings.warn(msg, FutureWarning)\n"
          ],
          "name": "stderr"
        },
        {
          "output_type": "execute_result",
          "data": {
            "text/plain": [
              "<matplotlib.axes._subplots.AxesSubplot at 0x7f5d60ee8c50>"
            ]
          },
          "metadata": {
            "tags": []
          },
          "execution_count": 127
        },
        {
          "output_type": "display_data",
          "data": {
            "image/png": "[encoded data removed]",
            "text/plain": [
              "<Figure size 432x288 with 1 Axes>"
            ]
          },
          "metadata": {
            "tags": [],
            "needs_background": "light"
          }
        }
      ]
    },
    {
      "cell_type": "code",
      "metadata": {
        "id": "7n-i9PqyQQLk",
        "outputId": "8dabd48b-7d90-407b-f052-dd89e1607423",
        "colab": {
          "base_uri": "https://localhost:8080/"
        }
      },
      "source": [
        "df['attr4'].isna().sum()"
      ],
      "execution_count": 130,
      "outputs": [
        {
          "output_type": "execute_result",
          "data": {
            "text/plain": [
              "0"
            ]
          },
          "metadata": {
            "tags": []
          },
          "execution_count": 130
        }
      ]
    },
    {
      "cell_type": "code",
      "metadata": {
        "id": "CnsQse7LQaIC"
      },
      "source": [
        "#attr5"
      ],
      "execution_count": 131,
      "outputs": []
    },
    {
      "cell_type": "code",
      "metadata": {
        "id": "T9unjqymQac_",
        "outputId": "ec718a85-c9f9-4a9a-aa16-0a72dc94a617",
        "colab": {
          "base_uri": "https://localhost:8080/"
        }
      },
      "source": [
        "df['attr5'].isna().sum()"
      ],
      "execution_count": 132,
      "outputs": [
        {
          "output_type": "execute_result",
          "data": {
            "text/plain": [
              "528867"
            ]
          },
          "metadata": {
            "tags": []
          },
          "execution_count": 132
        }
      ]
    },
    {
      "cell_type": "code",
      "metadata": {
        "id": "pTiLV_GEQgTD",
        "outputId": "79c841e7-ad5a-4f8c-c04c-3391e1b171b9",
        "colab": {
          "base_uri": "https://localhost:8080/"
        }
      },
      "source": [
        "df['attr5'].value_counts()"
      ],
      "execution_count": 133,
      "outputs": [
        {
          "output_type": "execute_result",
          "data": {
            "text/plain": [
              "1.0    268780\n",
              "2.0    221999\n",
              "3.0         1\n",
              "Name: attr5, dtype: int64"
            ]
          },
          "metadata": {
            "tags": []
          },
          "execution_count": 133
        }
      ]
    },
    {
      "cell_type": "code",
      "metadata": {
        "id": "3LOoiPGsQggU",
        "outputId": "a9e15d31-34e6-491e-c73c-d8d0e64045c4",
        "colab": {
          "base_uri": "https://localhost:8080/",
          "height": 350
        }
      },
      "source": [
        "sns.distplot(df['attr5'])"
      ],
      "execution_count": 134,
      "outputs": [
        {
          "output_type": "stream",
          "text": [
            "/usr/local/lib/python3.6/dist-packages/seaborn/distributions.py:2551: FutureWarning: `distplot` is a deprecated function and will be removed in a future version. Please adapt your code to use either `displot` (a figure-level function with similar flexibility) or `histplot` (an axes-level function for histograms).\n",
            "  warnings.warn(msg, FutureWarning)\n"
          ],
          "name": "stderr"
        },
        {
          "output_type": "execute_result",
          "data": {
            "text/plain": [
              "<matplotlib.axes._subplots.AxesSubplot at 0x7f5d60d98eb8>"
            ]
          },
          "metadata": {
            "tags": []
          },
          "execution_count": 134
        },
        {
          "output_type": "display_data",
          "data": {
            "image/png": "[encoded data removed]",
            "text/plain": [
              "<Figure size 432x288 with 1 Axes>"
            ]
          },
          "metadata": {
            "tags": [],
            "needs_background": "light"
          }
        }
      ]
    },
    {
      "cell_type": "code",
      "metadata": {
        "id": "FGbeN-EWQqS7"
      },
      "source": [
        "#Since there are nearly 50 % of null in this column. Need to check with the SME about this column."
      ],
      "execution_count": 136,
      "outputs": []
    },
    {
      "cell_type": "code",
      "metadata": {
        "id": "51mSco5jQr3-"
      },
      "source": [
        "#attr6"
      ],
      "execution_count": 137,
      "outputs": []
    },
    {
      "cell_type": "code",
      "metadata": {
        "id": "cu7otKRGQrnb",
        "outputId": "963e002f-d28c-4a88-bad0-e9d857f8dff4",
        "colab": {
          "base_uri": "https://localhost:8080/"
        }
      },
      "source": [
        "df['attr6'].isna().sum()"
      ],
      "execution_count": 138,
      "outputs": [
        {
          "output_type": "execute_result",
          "data": {
            "text/plain": [
              "0"
            ]
          },
          "metadata": {
            "tags": []
          },
          "execution_count": 138
        }
      ]
    },
    {
      "cell_type": "code",
      "metadata": {
        "id": "RzqFKviDSV_T",
        "outputId": "280f00d2-79bf-4e2b-c849-73e0001fbc22",
        "colab": {
          "base_uri": "https://localhost:8080/"
        }
      },
      "source": [
        "df['attr6'].value_counts()"
      ],
      "execution_count": 139,
      "outputs": [
        {
          "output_type": "execute_result",
          "data": {
            "text/plain": [
              "0.0       208883\n",
              "50.0       19033\n",
              "40.0       16432\n",
              "30.0       16021\n",
              "60.0       15196\n",
              "           ...  \n",
              "4464.0         1\n",
              "3987.0         1\n",
              "4009.0         1\n",
              "4010.0         1\n",
              "3016.0         1\n",
              "Name: attr6, Length: 3671, dtype: int64"
            ]
          },
          "metadata": {
            "tags": []
          },
          "execution_count": 139
        }
      ]
    },
    {
      "cell_type": "code",
      "metadata": {
        "id": "PFOmbfWOUk-l"
      },
      "source": [
        "#Since there is more than 25% off Zeroes in this column we may need to check with the Business. FFor now we will drop the column."
      ],
      "execution_count": 140,
      "outputs": []
    },
    {
      "cell_type": "code",
      "metadata": {
        "id": "PdtkE2huSWoh",
        "outputId": "673637cb-6817-4974-ccf4-6c0c90f33948",
        "colab": {
          "base_uri": "https://localhost:8080/",
          "height": 977
        }
      },
      "source": [
        "sns.pairplot(df,diag_kind='kde')"
      ],
      "execution_count": 141,
      "outputs": [
        {
          "output_type": "execute_result",
          "data": {
            "text/plain": [
              "<seaborn.axisgrid.PairGrid at 0x7f5d60daf0f0>"
            ]
          },
          "metadata": {
            "tags": []
          },
          "execution_count": 141
        },
        {
          "output_type": "display_data",
          "data": {
            "image/png": "[encoded data removed]",
            "text/plain": [
              "<Figure size 1440x1440 with 72 Axes>"
            ]
          },
          "metadata": {
            "tags": [],
            "needs_background": "light"
          }
        }
      ]
    },
    {
      "cell_type": "code",
      "metadata": {
        "id": "QMtD3MHxw_li"
      },
      "source": [
        "#Correlation"
      ],
      "execution_count": null,
      "outputs": []
    },
    {
      "cell_type": "code",
      "metadata": {
        "id": "xc71UrFrXOI0",
        "outputId": "9328bcb3-d03b-4e5c-a71b-2748d1d2531d",
        "colab": {
          "base_uri": "https://localhost:8080/",
          "height": 297
        }
      },
      "source": [
        "df.corr()"
      ],
      "execution_count": 143,
      "outputs": [
        {
          "output_type": "execute_result",
          "data": {
            "text/html": [
              "<div>\n",
              "<style scoped>\n",
              "    .dataframe tbody tr th:only-of-type {\n",
              "        vertical-align: middle;\n",
              "    }\n",
              "\n",
              "    .dataframe tbody tr th {\n",
              "        vertical-align: top;\n",
              "    }\n",
              "\n",
              "    .dataframe thead th {\n",
              "        text-align: right;\n",
              "    }\n",
              "</style>\n",
              "<table border=\"1\" class=\"dataframe\">\n",
              "  <thead>\n",
              "    <tr style=\"text-align: right;\">\n",
              "      <th></th>\n",
              "      <th>id</th>\n",
              "      <th>attr1</th>\n",
              "      <th>attr2</th>\n",
              "      <th>attr3</th>\n",
              "      <th>attr4</th>\n",
              "      <th>attr5</th>\n",
              "      <th>attr6</th>\n",
              "      <th>sold_price</th>\n",
              "    </tr>\n",
              "  </thead>\n",
              "  <tbody>\n",
              "    <tr>\n",
              "      <th>id</th>\n",
              "      <td>1.000000</td>\n",
              "      <td>-0.053480</td>\n",
              "      <td>-0.060384</td>\n",
              "      <td>0.003188</td>\n",
              "      <td>0.037947</td>\n",
              "      <td>0.017009</td>\n",
              "      <td>-0.001642</td>\n",
              "      <td>0.016285</td>\n",
              "    </tr>\n",
              "    <tr>\n",
              "      <th>attr1</th>\n",
              "      <td>-0.053480</td>\n",
              "      <td>1.000000</td>\n",
              "      <td>-0.052885</td>\n",
              "      <td>-0.038754</td>\n",
              "      <td>-0.115325</td>\n",
              "      <td>-0.031474</td>\n",
              "      <td>-0.001463</td>\n",
              "      <td>0.021839</td>\n",
              "    </tr>\n",
              "    <tr>\n",
              "      <th>attr2</th>\n",
              "      <td>-0.060384</td>\n",
              "      <td>-0.052885</td>\n",
              "      <td>1.000000</td>\n",
              "      <td>-0.069128</td>\n",
              "      <td>-0.010236</td>\n",
              "      <td>-0.010390</td>\n",
              "      <td>0.000888</td>\n",
              "      <td>-0.072250</td>\n",
              "    </tr>\n",
              "    <tr>\n",
              "      <th>attr3</th>\n",
              "      <td>0.003188</td>\n",
              "      <td>-0.038754</td>\n",
              "      <td>-0.069128</td>\n",
              "      <td>1.000000</td>\n",
              "      <td>-0.012091</td>\n",
              "      <td>-0.010716</td>\n",
              "      <td>0.000933</td>\n",
              "      <td>0.015764</td>\n",
              "    </tr>\n",
              "    <tr>\n",
              "      <th>attr4</th>\n",
              "      <td>0.037947</td>\n",
              "      <td>-0.115325</td>\n",
              "      <td>-0.010236</td>\n",
              "      <td>-0.012091</td>\n",
              "      <td>1.000000</td>\n",
              "      <td>0.200850</td>\n",
              "      <td>-0.000437</td>\n",
              "      <td>-0.018982</td>\n",
              "    </tr>\n",
              "    <tr>\n",
              "      <th>attr5</th>\n",
              "      <td>0.017009</td>\n",
              "      <td>-0.031474</td>\n",
              "      <td>-0.010390</td>\n",
              "      <td>-0.010716</td>\n",
              "      <td>0.200850</td>\n",
              "      <td>1.000000</td>\n",
              "      <td>-0.001299</td>\n",
              "      <td>-0.005230</td>\n",
              "    </tr>\n",
              "    <tr>\n",
              "      <th>attr6</th>\n",
              "      <td>-0.001642</td>\n",
              "      <td>-0.001463</td>\n",
              "      <td>0.000888</td>\n",
              "      <td>0.000933</td>\n",
              "      <td>-0.000437</td>\n",
              "      <td>-0.001299</td>\n",
              "      <td>1.000000</td>\n",
              "      <td>0.000073</td>\n",
              "    </tr>\n",
              "    <tr>\n",
              "      <th>sold_price</th>\n",
              "      <td>0.016285</td>\n",
              "      <td>0.021839</td>\n",
              "      <td>-0.072250</td>\n",
              "      <td>0.015764</td>\n",
              "      <td>-0.018982</td>\n",
              "      <td>-0.005230</td>\n",
              "      <td>0.000073</td>\n",
              "      <td>1.000000</td>\n",
              "    </tr>\n",
              "  </tbody>\n",
              "</table>\n",
              "</div>"
            ],
            "text/plain": [
              "                  id     attr1     attr2  ...     attr5     attr6  sold_price\n",
              "id          1.000000 -0.053480 -0.060384  ...  0.017009 -0.001642    0.016285\n",
              "attr1      -0.053480  1.000000 -0.052885  ... -0.031474 -0.001463    0.021839\n",
              "attr2      -0.060384 -0.052885  1.000000  ... -0.010390  0.000888   -0.072250\n",
              "attr3       0.003188 -0.038754 -0.069128  ... -0.010716  0.000933    0.015764\n",
              "attr4       0.037947 -0.115325 -0.010236  ...  0.200850 -0.000437   -0.018982\n",
              "attr5       0.017009 -0.031474 -0.010390  ...  1.000000 -0.001299   -0.005230\n",
              "attr6      -0.001642 -0.001463  0.000888  ... -0.001299  1.000000    0.000073\n",
              "sold_price  0.016285  0.021839 -0.072250  ... -0.005230  0.000073    1.000000\n",
              "\n",
              "[8 rows x 8 columns]"
            ]
          },
          "metadata": {
            "tags": []
          },
          "execution_count": 143
        }
      ]
    },
    {
      "cell_type": "code",
      "metadata": {
        "id": "yh99xVifY8q2",
        "outputId": "57eb4c65-a54f-49b8-fe50-4eea3b232ed9",
        "colab": {
          "base_uri": "https://localhost:8080/",
          "height": 613
        }
      },
      "source": [
        "plt.figure(figsize=(10,10))\n",
        "sns.heatmap(df.corr(),annot=True)"
      ],
      "execution_count": 144,
      "outputs": [
        {
          "output_type": "execute_result",
          "data": {
            "text/plain": [
              "<matplotlib.axes._subplots.AxesSubplot at 0x7f5d5f886eb8>"
            ]
          },
          "metadata": {
            "tags": []
          },
          "execution_count": 144
        },
        {
          "output_type": "display_data",
          "data": {
            "image/png": "[encoded data removed]",
            "text/plain": [
              "<Figure size 720x720 with 2 Axes>"
            ]
          },
          "metadata": {
            "tags": [],
            "needs_background": "light"
          }
        }
      ]
    },
    {
      "cell_type": "code",
      "metadata": {
        "id": "BSrlG4J6xFEu"
      },
      "source": [
        "#From the correlation map we could see that the attr columns does not have good coorelatinship with the sold price. So we are cnsidering the title."
      ],
      "execution_count": null,
      "outputs": []
    },
    {
      "cell_type": "code",
      "metadata": {
        "id": "AAtnA_8OOySf",
        "outputId": "02487334-16d3-4dcb-fc1f-1c5341f39ae9",
        "colab": {
          "base_uri": "https://localhost:8080/"
        }
      },
      "source": [
        "df['title']"
      ],
      "execution_count": 145,
      "outputs": [
        {
          "output_type": "execute_result",
          "data": {
            "text/plain": [
              "0          one teaspoon bandit distressed denim shorts (23)\n",
              "1          gucci emily mini guccissima mini red leather bag\n",
              "2                  steve madden polka dot wedges 8.5 - wi06\n",
              "3                 crown & ivy navy blue floral print shorts\n",
              "4                                 grey wide leg dress pants\n",
              "                                 ...                       \n",
              "1029844     white house black market silk/lace top/shirt, m\n",
              "1029845        brand  new lucky brand size 10 caisby wedges\n",
              "1029847         authentic michael kors mindy handbag&wallet\n",
              "1029848          zion williamson new orlean pelicans jersey\n",
              "1029849    nwot victorias secret pink extra low rise bikini\n",
              "Name: title, Length: 1019647, dtype: object"
            ]
          },
          "metadata": {
            "tags": []
          },
          "execution_count": 145
        }
      ]
    },
    {
      "cell_type": "code",
      "metadata": {
        "id": "_oUfeJBOJquX",
        "outputId": "3d160e94-cf5f-4f69-d294-957a0768083f",
        "colab": {
          "base_uri": "https://localhost:8080/"
        }
      },
      "source": [
        "df['title'].isna().sum()"
      ],
      "execution_count": 146,
      "outputs": [
        {
          "output_type": "execute_result",
          "data": {
            "text/plain": [
              "89"
            ]
          },
          "metadata": {
            "tags": []
          },
          "execution_count": 146
        }
      ]
    },
    {
      "cell_type": "code",
      "metadata": {
        "id": "_3qTH9iWJwz_"
      },
      "source": [
        "df=df[df['title'].notna()]"
      ],
      "execution_count": 148,
      "outputs": []
    },
    {
      "cell_type": "code",
      "metadata": {
        "id": "CDt5-2CMCi8J",
        "outputId": "ab757b66-94ee-4e61-c35a-cfaded0cf108",
        "colab": {
          "base_uri": "https://localhost:8080/"
        }
      },
      "source": [
        "df['total']=df['title']+' '+df['attr1'].astype('str')+' '+df['attr2'].astype('str')+' '+df['attr3'].astype('str')+' '+df['attr4'].astype('str')"
      ],
      "execution_count": 149,
      "outputs": [
        {
          "output_type": "stream",
          "text": [
            "/usr/local/lib/python3.6/dist-packages/ipykernel_launcher.py:1: SettingWithCopyWarning: \n",
            "A value is trying to be set on a copy of a slice from a DataFrame.\n",
            "Try using .loc[row_indexer,col_indexer] = value instead\n",
            "\n",
            "See the caveats in the documentation: https://pandas.pydata.org/pandas-docs/stable/user_guide/indexing.html#returning-a-view-versus-a-copy\n",
            "  \"\"\"Entry point for launching an IPython kernel.\n"
          ],
          "name": "stderr"
        }
      ]
    },
    {
      "cell_type": "code",
      "metadata": {
        "id": "xDh19f4t3keD",
        "outputId": "f431d7c6-2eec-4d0c-bb51-48b189a3f022",
        "colab": {
          "base_uri": "https://localhost:8080/",
          "height": 289
        }
      },
      "source": [
        "df.head()"
      ],
      "execution_count": 150,
      "outputs": [
        {
          "output_type": "execute_result",
          "data": {
            "text/html": [
              "<div>\n",
              "<style scoped>\n",
              "    .dataframe tbody tr th:only-of-type {\n",
              "        vertical-align: middle;\n",
              "    }\n",
              "\n",
              "    .dataframe tbody tr th {\n",
              "        vertical-align: top;\n",
              "    }\n",
              "\n",
              "    .dataframe thead th {\n",
              "        text-align: right;\n",
              "    }\n",
              "</style>\n",
              "<table border=\"1\" class=\"dataframe\">\n",
              "  <thead>\n",
              "    <tr style=\"text-align: right;\">\n",
              "      <th></th>\n",
              "      <th>id</th>\n",
              "      <th>attr1</th>\n",
              "      <th>attr2</th>\n",
              "      <th>attr3</th>\n",
              "      <th>attr4</th>\n",
              "      <th>attr5</th>\n",
              "      <th>attr6</th>\n",
              "      <th>title</th>\n",
              "      <th>sold_price</th>\n",
              "      <th>total</th>\n",
              "    </tr>\n",
              "  </thead>\n",
              "  <tbody>\n",
              "    <tr>\n",
              "      <th>0</th>\n",
              "      <td>742122</td>\n",
              "      <td>4</td>\n",
              "      <td>27</td>\n",
              "      <td>149.0</td>\n",
              "      <td>3808.0</td>\n",
              "      <td>1.0</td>\n",
              "      <td>99.0</td>\n",
              "      <td>one teaspoon bandit distressed denim shorts (23)</td>\n",
              "      <td>65.0</td>\n",
              "      <td>one teaspoon bandit distressed denim shorts (2...</td>\n",
              "    </tr>\n",
              "    <tr>\n",
              "      <th>1</th>\n",
              "      <td>652751</td>\n",
              "      <td>4</td>\n",
              "      <td>3</td>\n",
              "      <td>89.0</td>\n",
              "      <td>1996.0</td>\n",
              "      <td>NaN</td>\n",
              "      <td>1500.0</td>\n",
              "      <td>gucci emily mini guccissima mini red leather bag</td>\n",
              "      <td>600.0</td>\n",
              "      <td>gucci emily mini guccissima mini red leather b...</td>\n",
              "    </tr>\n",
              "    <tr>\n",
              "      <th>2</th>\n",
              "      <td>228229</td>\n",
              "      <td>4</td>\n",
              "      <td>26</td>\n",
              "      <td>301.0</td>\n",
              "      <td>5194.0</td>\n",
              "      <td>NaN</td>\n",
              "      <td>89.0</td>\n",
              "      <td>steve madden polka dot wedges 8.5 - wi06</td>\n",
              "      <td>12.0</td>\n",
              "      <td>steve madden polka dot wedges 8.5 - wi06 4 26 ...</td>\n",
              "    </tr>\n",
              "    <tr>\n",
              "      <th>3</th>\n",
              "      <td>645810</td>\n",
              "      <td>4</td>\n",
              "      <td>27</td>\n",
              "      <td>180.0</td>\n",
              "      <td>6335.0</td>\n",
              "      <td>NaN</td>\n",
              "      <td>0.0</td>\n",
              "      <td>crown &amp; ivy navy blue floral print shorts</td>\n",
              "      <td>12.0</td>\n",
              "      <td>crown &amp; ivy navy blue floral print shorts 4 27...</td>\n",
              "    </tr>\n",
              "    <tr>\n",
              "      <th>4</th>\n",
              "      <td>854374</td>\n",
              "      <td>4</td>\n",
              "      <td>22</td>\n",
              "      <td>302.0</td>\n",
              "      <td>3606.0</td>\n",
              "      <td>2.0</td>\n",
              "      <td>45.0</td>\n",
              "      <td>grey wide leg dress pants</td>\n",
              "      <td>22.0</td>\n",
              "      <td>grey wide leg dress pants 4 22 302.0 3606.0</td>\n",
              "    </tr>\n",
              "  </tbody>\n",
              "</table>\n",
              "</div>"
            ],
            "text/plain": [
              "       id  attr1  ...  sold_price                                              total\n",
              "0  742122      4  ...        65.0  one teaspoon bandit distressed denim shorts (2...\n",
              "1  652751      4  ...       600.0  gucci emily mini guccissima mini red leather b...\n",
              "2  228229      4  ...        12.0  steve madden polka dot wedges 8.5 - wi06 4 26 ...\n",
              "3  645810      4  ...        12.0  crown & ivy navy blue floral print shorts 4 27...\n",
              "4  854374      4  ...        22.0        grey wide leg dress pants 4 22 302.0 3606.0\n",
              "\n",
              "[5 rows x 10 columns]"
            ]
          },
          "metadata": {
            "tags": []
          },
          "execution_count": 150
        }
      ]
    },
    {
      "cell_type": "code",
      "metadata": {
        "id": "nUnoc0Xb2ZP-"
      },
      "source": [
        "#Checking how lengthy the entered text is and we could see from below the max length is around 16 words and most of the sentences have 9 to 10 words."
      ],
      "execution_count": null,
      "outputs": []
    },
    {
      "cell_type": "code",
      "metadata": {
        "id": "vtfONIllf1JJ"
      },
      "source": [
        "seq_len = [len(i.split()) for i in df['total']]"
      ],
      "execution_count": 151,
      "outputs": []
    },
    {
      "cell_type": "code",
      "metadata": {
        "id": "cimKtzZDkobI",
        "outputId": "a0f838df-55f8-4b4a-8206-bc582086abe6",
        "colab": {
          "base_uri": "https://localhost:8080/",
          "height": 282
        }
      },
      "source": [
        "pd.Series(seq_len).hist(bins = 10)"
      ],
      "execution_count": 152,
      "outputs": [
        {
          "output_type": "execute_result",
          "data": {
            "text/plain": [
              "<matplotlib.axes._subplots.AxesSubplot at 0x7f5d5f67e860>"
            ]
          },
          "metadata": {
            "tags": []
          },
          "execution_count": 152
        },
        {
          "output_type": "display_data",
          "data": {
            "image/png": "[encoded data removed]",
            "text/plain": [
              "<Figure size 432x288 with 1 Axes>"
            ]
          },
          "metadata": {
            "tags": [],
            "needs_background": "light"
          }
        }
      ]
    },
    {
      "cell_type": "code",
      "metadata": {
        "id": "uK4k-E0-2ryZ"
      },
      "source": [
        "#Categorizing the sold price into 5 classes as mentioned in the assignment. Could see that it unbalanced."
      ],
      "execution_count": null,
      "outputs": []
    },
    {
      "cell_type": "code",
      "metadata": {
        "id": "E8oVWRFpiU_s",
        "outputId": "c287850e-b190-460e-895f-001c27974789",
        "colab": {
          "base_uri": "https://localhost:8080/"
        }
      },
      "source": [
        "df['sold_price1']=0"
      ],
      "execution_count": 153,
      "outputs": [
        {
          "output_type": "stream",
          "text": [
            "/usr/local/lib/python3.6/dist-packages/ipykernel_launcher.py:1: SettingWithCopyWarning: \n",
            "A value is trying to be set on a copy of a slice from a DataFrame.\n",
            "Try using .loc[row_indexer,col_indexer] = value instead\n",
            "\n",
            "See the caveats in the documentation: https://pandas.pydata.org/pandas-docs/stable/user_guide/indexing.html#returning-a-view-versus-a-copy\n",
            "  \"\"\"Entry point for launching an IPython kernel.\n"
          ],
          "name": "stderr"
        }
      ]
    },
    {
      "cell_type": "code",
      "metadata": {
        "id": "JIN-6092tzP1"
      },
      "source": [
        "for i in df.index:\n",
        "  if df['sold_price'][i] >=1000:\n",
        "    df['sold_price1'][i]='1000+'\n",
        "  if df['sold_price'][i]<50:\n",
        "    df['sold_price1'][i]='0-50'\n",
        "  if df['sold_price'][i] >=50 and df['sold_price'][i]<100:\n",
        "    df['sold_price1'][i]='50-100'\n",
        "  if df['sold_price'][i] >=100 and df['sold_price'][i]<500:\n",
        "    df['sold_price1'][i]='100-500'\n",
        "  if df['sold_price'][i] >=500 and df['sold_price'][i]<1000:\n",
        "    df['sold_price1'][i]='500-1000'\n",
        "        "
      ],
      "execution_count": null,
      "outputs": []
    },
    {
      "cell_type": "code",
      "metadata": {
        "id": "mIbJkO7dzVLl",
        "outputId": "290818f9-893e-4a81-bac6-4b1556622247",
        "colab": {
          "base_uri": "https://localhost:8080/"
        }
      },
      "source": [
        "df['sold_price1'].value_counts()"
      ],
      "execution_count": 156,
      "outputs": [
        {
          "output_type": "execute_result",
          "data": {
            "text/plain": [
              "0-50        501252\n",
              "100-500     375872\n",
              "500-1000     75371\n",
              "50-100       42693\n",
              "1000+        24370\n",
              "Name: sold_price1, dtype: int64"
            ]
          },
          "metadata": {
            "tags": []
          },
          "execution_count": 156
        }
      ]
    },
    {
      "cell_type": "code",
      "metadata": {
        "id": "c2c0e5vl3jty"
      },
      "source": [
        "#Taking the X and y variable for the algorithm."
      ],
      "execution_count": null,
      "outputs": []
    },
    {
      "cell_type": "code",
      "metadata": {
        "id": "S0BGxpEGNgjJ"
      },
      "source": [
        "X=df['total']"
      ],
      "execution_count": 159,
      "outputs": []
    },
    {
      "cell_type": "code",
      "metadata": {
        "id": "0MJm9O9vNgxZ"
      },
      "source": [
        "y=df['sold_price1']"
      ],
      "execution_count": 160,
      "outputs": []
    },
    {
      "cell_type": "code",
      "metadata": {
        "id": "1nXsxXml3o5Z"
      },
      "source": [
        "#Encoding the y variable"
      ],
      "execution_count": null,
      "outputs": []
    },
    {
      "cell_type": "code",
      "metadata": {
        "id": "6YiachXSczaT"
      },
      "source": [
        "from sklearn.preprocessing import LabelEncoder\n",
        "label_encoder = LabelEncoder()\n",
        "y=label_encoder.fit_transform(y)"
      ],
      "execution_count": 239,
      "outputs": []
    },
    {
      "cell_type": "code",
      "metadata": {
        "id": "lcBONoqkNgMU"
      },
      "source": [
        "messages=X.copy()"
      ],
      "execution_count": 161,
      "outputs": []
    },
    {
      "cell_type": "code",
      "metadata": {
        "id": "JVkwiEhEPHiL",
        "outputId": "a0fc9be2-933e-4d5f-a755-36aa68b50438",
        "colab": {
          "base_uri": "https://localhost:8080/"
        }
      },
      "source": [
        "nltk.download('stopwords')\n"
      ],
      "execution_count": 166,
      "outputs": [
        {
          "output_type": "stream",
          "text": [
            "[nltk_data] Downloading package stopwords to /root/nltk_data...\n",
            "[nltk_data]   Unzipping corpora/stopwords.zip.\n"
          ],
          "name": "stdout"
        },
        {
          "output_type": "execute_result",
          "data": {
            "text/plain": [
              "True"
            ]
          },
          "metadata": {
            "tags": []
          },
          "execution_count": 166
        }
      ]
    },
    {
      "cell_type": "code",
      "metadata": {
        "id": "AtAAY_XBQcb_"
      },
      "source": [
        "messages=df['total'].copy()\n"
      ],
      "execution_count": 175,
      "outputs": []
    },
    {
      "cell_type": "code",
      "metadata": {
        "id": "dM836nHjRK_n"
      },
      "source": [
        "messages=messages.reset_index()"
      ],
      "execution_count": 179,
      "outputs": []
    },
    {
      "cell_type": "code",
      "metadata": {
        "id": "iYmJRXgvRYBo"
      },
      "source": [
        "messages.drop(columns={'index'},inplace=True)"
      ],
      "execution_count": 182,
      "outputs": []
    },
    {
      "cell_type": "code",
      "metadata": {
        "id": "Ry-05lBSRksJ",
        "outputId": "3a294d29-587b-4fde-fc43-daca29950746",
        "colab": {
          "base_uri": "https://localhost:8080/",
          "height": 419
        }
      },
      "source": [
        "messages"
      ],
      "execution_count": 186,
      "outputs": [
        {
          "output_type": "execute_result",
          "data": {
            "text/html": [
              "<div>\n",
              "<style scoped>\n",
              "    .dataframe tbody tr th:only-of-type {\n",
              "        vertical-align: middle;\n",
              "    }\n",
              "\n",
              "    .dataframe tbody tr th {\n",
              "        vertical-align: top;\n",
              "    }\n",
              "\n",
              "    .dataframe thead th {\n",
              "        text-align: right;\n",
              "    }\n",
              "</style>\n",
              "<table border=\"1\" class=\"dataframe\">\n",
              "  <thead>\n",
              "    <tr style=\"text-align: right;\">\n",
              "      <th></th>\n",
              "      <th>total</th>\n",
              "    </tr>\n",
              "  </thead>\n",
              "  <tbody>\n",
              "    <tr>\n",
              "      <th>0</th>\n",
              "      <td>one teaspoon bandit distressed denim shorts (2...</td>\n",
              "    </tr>\n",
              "    <tr>\n",
              "      <th>1</th>\n",
              "      <td>gucci emily mini guccissima mini red leather b...</td>\n",
              "    </tr>\n",
              "    <tr>\n",
              "      <th>2</th>\n",
              "      <td>steve madden polka dot wedges 8.5 - wi06 4 26 ...</td>\n",
              "    </tr>\n",
              "    <tr>\n",
              "      <th>3</th>\n",
              "      <td>crown &amp; ivy navy blue floral print shorts 4 27...</td>\n",
              "    </tr>\n",
              "    <tr>\n",
              "      <th>4</th>\n",
              "      <td>grey wide leg dress pants 4 22 302.0 3606.0</td>\n",
              "    </tr>\n",
              "    <tr>\n",
              "      <th>...</th>\n",
              "      <td>...</td>\n",
              "    </tr>\n",
              "    <tr>\n",
              "      <th>1019553</th>\n",
              "      <td>white house black market silk/lace top/shirt, ...</td>\n",
              "    </tr>\n",
              "    <tr>\n",
              "      <th>1019554</th>\n",
              "      <td>brand  new lucky brand size 10 caisby wedges 4...</td>\n",
              "    </tr>\n",
              "    <tr>\n",
              "      <th>1019555</th>\n",
              "      <td>authentic michael kors mindy handbag&amp;wallet 4 ...</td>\n",
              "    </tr>\n",
              "    <tr>\n",
              "      <th>1019556</th>\n",
              "      <td>zion williamson new orlean pelicans jersey 3 2...</td>\n",
              "    </tr>\n",
              "    <tr>\n",
              "      <th>1019557</th>\n",
              "      <td>nwot victorias secret pink extra low rise biki...</td>\n",
              "    </tr>\n",
              "  </tbody>\n",
              "</table>\n",
              "<p>1019558 rows × 1 columns</p>\n",
              "</div>"
            ],
            "text/plain": [
              "                                                     total\n",
              "0        one teaspoon bandit distressed denim shorts (2...\n",
              "1        gucci emily mini guccissima mini red leather b...\n",
              "2        steve madden polka dot wedges 8.5 - wi06 4 26 ...\n",
              "3        crown & ivy navy blue floral print shorts 4 27...\n",
              "4              grey wide leg dress pants 4 22 302.0 3606.0\n",
              "...                                                    ...\n",
              "1019553  white house black market silk/lace top/shirt, ...\n",
              "1019554  brand  new lucky brand size 10 caisby wedges 4...\n",
              "1019555  authentic michael kors mindy handbag&wallet 4 ...\n",
              "1019556  zion williamson new orlean pelicans jersey 3 2...\n",
              "1019557  nwot victorias secret pink extra low rise biki...\n",
              "\n",
              "[1019558 rows x 1 columns]"
            ]
          },
          "metadata": {
            "tags": []
          },
          "execution_count": 186
        }
      ]
    },
    {
      "cell_type": "code",
      "metadata": {
        "id": "KcaFn_K94BRi"
      },
      "source": [
        "### Dataset Preprocessing"
      ],
      "execution_count": null,
      "outputs": []
    },
    {
      "cell_type": "code",
      "metadata": {
        "id": "h9XPCHi7JYsF"
      },
      "source": [
        "\n",
        "from nltk.stem.porter import PorterStemmer\n",
        "ps = PorterStemmer()\n",
        "corpus = []\n",
        "for i in range(0, len(messages)):\n",
        "    # print(i)\n",
        "    review = re.sub('[^a-zA-Z]', ' ', messages['total'][i])\n",
        "    review = review.lower()\n",
        "    review = review.split()\n",
        "    \n",
        "    review = [ps.stem(word) for word in review if not word in stopwords.words('english')]\n",
        "    review = ' '.join(review)\n",
        "    corpus.append(review)"
      ],
      "execution_count": 188,
      "outputs": []
    },
    {
      "cell_type": "code",
      "metadata": {
        "id": "4TTcP3vOWOiz"
      },
      "source": [
        "#vocabulary size\n",
        "voc_size=8000\n"
      ],
      "execution_count": 189,
      "outputs": []
    },
    {
      "cell_type": "code",
      "metadata": {
        "id": "TNBtKsbNWTz8",
        "outputId": "0b40d7b4-4eb6-48d7-c8e1-f1f250ab11fd",
        "colab": {
          "base_uri": "https://localhost:8080/"
        }
      },
      "source": [
        "onehot_repr=[one_hot(words,voc_size)for words in corpus] \n",
        "onehot_repr"
      ],
      "execution_count": 191,
      "outputs": [
        {
          "output_type": "execute_result",
          "data": {
            "text/plain": [
              "[[2816, 7641, 4991, 993, 4633, 677],\n",
              " [2850, 2201, 1533, 2417, 1533, 3765, 4618, 6619],\n",
              " [3908, 2020, 4913, 5001, 6161, 3018],\n",
              " [6205, 91, 5754, 1932, 6391, 1465, 677],\n",
              " [3319, 7535, 3536, 3405, 4656],\n",
              " [6606, 4122, 1683],\n",
              " [5897, 4973, 2228],\n",
              " [7982, 1154, 7476, 608, 4727, 6272, 2558, 6890],\n",
              " [1994, 1782, 6466, 6600, 6161],\n",
              " [2425, 7830, 6806],\n",
              " [4144, 1969, 3376, 6619],\n",
              " [7321, 4916, 6890],\n",
              " [903, 7835, 6619],\n",
              " [1946, 7670, 7164, 2366, 2179, 5432],\n",
              " [5897, 5109, 3061, 6619],\n",
              " [3685, 930, 1154, 2978, 6890],\n",
              " [7980, 7628, 6591, 1839, 6890, 427, 5820],\n",
              " [7759, 427, 427, 6075, 6496, 4771, 6505],\n",
              " [2283, 3702, 7408],\n",
              " [7980, 2463, 5315, 2530, 562, 7355, 7754],\n",
              " [5109, 5719, 5402, 3082, 4955],\n",
              " [3702, 6329, 6619],\n",
              " [6075, 5489, 4771, 6505, 427],\n",
              " [2152, 6975, 4633, 1317],\n",
              " [3966, 7361, 7311, 871],\n",
              " [1515, 7665, 5812, 427],\n",
              " [6397, 4958, 3319, 1841, 6505],\n",
              " [4494, 5209, 3198, 1653, 786],\n",
              " [54, 1265, 68, 2848],\n",
              " [732, 4618, 3061, 6619, 3341, 3259],\n",
              " [3605, 5261, 3251, 7980],\n",
              " [6397, 4958, 4488, 2774, 3492, 1317],\n",
              " [3161, 3015, 6823, 1998, 257, 6505],\n",
              " [3847],\n",
              " [4843, 4244, 7626, 1317, 2648],\n",
              " [3995, 1855, 2, 5820, 7980, 4285, 6505],\n",
              " [3069, 4052, 5575, 1664, 427, 421, 3765],\n",
              " [2978, 3025, 440, 3833, 4997],\n",
              " [5169, 677],\n",
              " [7420, 2439, 1455, 6441, 2808, 3906, 7622, 5731],\n",
              " [5997, 6414, 3043, 4084],\n",
              " [7610, 7082, 3198, 1653, 3765, 735, 3349, 5820, 2354, 7980],\n",
              " [2850, 1226],\n",
              " [1007, 3765, 2871],\n",
              " [6075, 4618, 1317],\n",
              " [467, 1086, 550, 2984],\n",
              " [3966, 7361, 4928],\n",
              " [3966, 7361, 6271, 6196, 3339, 550, 5960],\n",
              " [1994, 3047, 6867, 804, 1529],\n",
              " [5897, 2850, 6619, 4763, 6619],\n",
              " [3702, 5754, 6075, 7947, 4618, 5684, 6705, 2558, 2603],\n",
              " [875, 4727, 4620],\n",
              " [3444, 5977, 3841, 7890, 5706, 6619],\n",
              " [4633, 1630, 879, 3251],\n",
              " [1154, 3669, 6619],\n",
              " [4594, 1401, 5927, 3447, 5259, 5684, 6705, 5402],\n",
              " [5641, 631, 3742, 1434, 3815],\n",
              " [2174, 4639, 5167, 819],\n",
              " [958, 5992, 3969, 4771],\n",
              " [427, 2530, 7480, 1628, 603],\n",
              " [7656, 1529, 1371, 421, 7232],\n",
              " [6860, 5732, 4084, 4540, 1731, 427],\n",
              " [3966, 7361],\n",
              " [663, 4771],\n",
              " [3206, 1781, 4979, 452, 7403, 507, 2848],\n",
              " [4522, 5332],\n",
              " [7982, 2850, 603, 750],\n",
              " [6870, 3030, 3220, 3317],\n",
              " [3966, 7361, 7311, 871, 6705, 1171],\n",
              " [3592, 5398, 6890],\n",
              " [3688, 265, 6075, 4005, 4084],\n",
              " [5489, 7959, 6975, 1932, 6975, 3536],\n",
              " [5897, 7238, 3970, 6932, 4321, 3662],\n",
              " [1154, 2203, 1317, 7982, 5820, 6075, 421, 5469],\n",
              " [1994, 421, 603, 6600, 6466, 3243, 4144, 427],\n",
              " [5368, 5922, 871, 5402, 2830, 1122, 4810],\n",
              " [7982, 2985, 603, 6075, 7610],\n",
              " [3069, 4457, 7285, 4912, 6033],\n",
              " [7980, 5897, 2850, 4727, 1465, 6327, 6619],\n",
              " [5445, 693, 3275],\n",
              " [5489, 918, 6975, 4830, 3536],\n",
              " [1778, 3188, 4442, 6075],\n",
              " [2515, 4389, 5194],\n",
              " [5489, 3319, 6975, 3536],\n",
              " [5454, 1629, 2460, 879, 1463, 4620],\n",
              " [2516, 6606, 4810, 3361, 2551, 786],\n",
              " [4610, 4720, 4287, 6975, 5047, 4656],\n",
              " [7413, 2514, 7806, 6654, 5943, 5332],\n",
              " [6227, 6075, 6161, 5812, 603],\n",
              " [6591, 1839, 1068, 7610, 6749, 6638, 3405, 2558, 271],\n",
              " [786],\n",
              " [2439, 1455, 3812, 1959, 1533, 2785, 7975],\n",
              " [1274, 5571],\n",
              " [3966, 7361, 4650, 5166, 5535],\n",
              " [3846, 4084, 427, 3206],\n",
              " [1109, 5907, 427],\n",
              " [7570, 4639, 6505],\n",
              " [3149, 3043, 4084],\n",
              " [5489, 3536],\n",
              " [7980, 4594, 1401, 5021, 1760, 5730],\n",
              " [4785, 2850, 5332],\n",
              " [2117, 1383, 7232, 533, 1731, 2848],\n",
              " [3806, 7980, 1088, 1707, 3030, 3064, 5630, 5586, 1998, 4620],\n",
              " [5914, 2634, 3913, 5959],\n",
              " [3276, 6075, 3319, 4656],\n",
              " [2850, 2417, 3319, 22, 6705],\n",
              " [4594, 1401, 6705],\n",
              " [1994, 6075, 4403, 3376, 4421, 3806],\n",
              " [2298, 1937, 7975, 6075, 5943, 7610, 2558, 6524],\n",
              " [6591, 1839, 1997, 2194, 5389, 819],\n",
              " [5933, 421, 6705, 6985, 3966],\n",
              " [6075, 3361, 2641, 786],\n",
              " [3966, 7361, 5068, 871],\n",
              " [3966, 5928],\n",
              " [45, 7607, 7181, 3765, 427],\n",
              " [3966, 7361, 2580, 2580, 6075],\n",
              " [7769, 5997, 5194, 2977],\n",
              " [54, 1265, 68, 2327, 173, 2848],\n",
              " [6075, 3945, 6215, 5834, 3061, 6619],\n",
              " [5897, 3966, 7361, 7928, 1972],\n",
              " [3966, 7361, 4010, 550, 1406, 1899],\n",
              " [730, 3651, 7550, 5469],\n",
              " [4017, 6804, 6820, 3251],\n",
              " [2403, 776, 4199, 677, 5820],\n",
              " [4785, 993, 6075, 2850, 3669, 2558, 1559],\n",
              " [4457, 55, 4084],\n",
              " [972, 477, 3785, 6619],\n",
              " [7980, 1673, 3319, 637, 7355, 2460, 1107],\n",
              " [3945, 6075, 1354, 3275],\n",
              " [1204, 5943, 1782, 7403],\n",
              " [577, 6142],\n",
              " [1034, 6075, 6135, 3701, 5732, 427],\n",
              " [6397, 4958, 1953, 5483, 2183, 6505],\n",
              " [563, 831, 563, 3687, 1317],\n",
              " [3966, 7361, 704, 4522, 7250, 2526, 3259],\n",
              " [3259, 6891, 7828, 2114, 5487, 3405, 427],\n",
              " [7482, 7382, 6059, 427, 1068, 7610],\n",
              " [5678, 1962, 634, 262, 5389, 2526, 4047],\n",
              " [3480, 4979, 7085, 7628, 3405],\n",
              " [119, 2101, 5754, 421, 4718, 7656, 2913, 677],\n",
              " [1448, 5732, 4263, 2846, 2848],\n",
              " [3161, 3123, 2848, 6430, 2283],\n",
              " [4904, 6075, 2589, 3284, 4023, 1317],\n",
              " [4973, 4639, 5024, 3251, 5819, 4249, 5167],\n",
              " [5897, 5368, 5922, 871, 7890, 5167, 6165, 2228],\n",
              " [3966, 7361, 5160, 704, 5706, 2603],\n",
              " [7574, 3549, 871, 427, 6075, 6071, 4771, 6505],\n",
              " [1813, 4430, 3902, 2938, 7225, 2890],\n",
              " [972, 7610, 3165, 4618, 3263, 910, 6538, 7064],\n",
              " [1699, 276, 7975, 2580],\n",
              " [675, 7346, 3970, 1932, 6391, 6505, 5402],\n",
              " [480, 7452],\n",
              " [3945, 7452],\n",
              " [1154, 7982, 47],\n",
              " [1429, 7803, 6931, 1707, 7091, 4620, 427],\n",
              " [1994, 6075, 5864, 7452, 2551],\n",
              " [3966, 7361, 2580, 2580, 3765, 2043],\n",
              " [2423, 4844, 4576, 7065, 2915, 4620],\n",
              " [7688, 3043, 4084],\n",
              " [1946, 819],\n",
              " [12, 2692],\n",
              " [2848, 2043, 366, 485, 6806],\n",
              " [1374, 362, 7682, 1226, 6059, 427],\n",
              " [4522, 2864, 2283, 4243, 1486],\n",
              " [2235, 6432, 2527, 2850, 5009, 795],\n",
              " [613, 871, 427, 1937, 555, 3405],\n",
              " [4287, 2263, 5166, 6290, 3536],\n",
              " [2850, 4785, 1785, 6907, 1782, 4494],\n",
              " [5489, 677],\n",
              " [7652, 5377, 2978, 6629, 3992, 6129, 4656, 6432],\n",
              " [3742, 3384, 6053, 226, 3939, 1731, 959],\n",
              " [4872, 3536],\n",
              " [3480, 1054, 4655, 908, 3405],\n",
              " [7982, 677],\n",
              " [3908, 2020, 5732, 5812, 2558, 7610, 4678, 984, 4349],\n",
              " [3747, 5167, 2423, 4725, 6075, 6705, 7610],\n",
              " [2114, 1962, 5487, 6586],\n",
              " [5255, 550],\n",
              " [1278, 5984, 3533, 4160],\n",
              " [480, 1375, 7452],\n",
              " [714, 4699, 5194],\n",
              " [4287, 5716, 7124, 725, 5885, 4771, 6391],\n",
              " [1068, 7610, 4891, 2883, 4618, 1317],\n",
              " [2020, 7747, 1533, 3405, 1257],\n",
              " [5109, 4963, 6075, 4618, 1000, 4522],\n",
              " [7610, 5851, 6524, 6955, 6075, 2848],\n",
              " [1381, 3669, 6619, 5897, 7610, 7982, 81],\n",
              " [5489, 3138, 4157, 6804, 4343, 1839],\n",
              " [489, 1581, 3405],\n",
              " [1429, 6075, 4771, 5514, 275],\n",
              " [3373, 2688, 4150, 871, 427, 4620],\n",
              " [3616, 260, 6075, 2888, 4618, 5730],\n",
              " [2136, 5893, 2123],\n",
              " [4292, 4911, 2816, 427, 7982, 2936, 2283],\n",
              " [2850, 7452],\n",
              " [735, 7999, 3823, 4084],\n",
              " [3609, 4003, 677],\n",
              " [81, 5997, 6414, 3822, 6441, 4028, 7403],\n",
              " [7102, 2253],\n",
              " [7215, 5247, 2, 4270, 6586],\n",
              " [3172, 6651, 3536, 263, 5812],\n",
              " [3966, 7361, 1406, 2235, 871, 6705],\n",
              " [4443, 1871, 108, 3405, 1729, 2043],\n",
              " [5368, 5922, 3129, 249, 871, 1370, 4810],\n",
              " [54, 1265, 1394, 6619],\n",
              " [7980, 6398, 7251, 2604, 3405],\n",
              " [5039, 427, 2580],\n",
              " [5928, 5332, 871],\n",
              " [599, 2882, 6059, 4084, 427],\n",
              " [4785, 4240, 7385, 4489, 6890],\n",
              " [7982, 1226],\n",
              " [5303, 5754, 1994, 5943, 1247, 3166, 1711],\n",
              " [5897, 3966, 7361, 7928, 5370],\n",
              " [4287, 3816, 3536],\n",
              " [4811, 6527, 2551, 4618, 6935, 4084],\n",
              " [81, 4243, 6699, 3077, 6075, 427],\n",
              " [5368, 5922, 871, 5943, 7124, 5389],\n",
              " [1427, 1486],\n",
              " [2850, 7309, 2314],\n",
              " [6075, 786, 3684],\n",
              " [4594, 1401],\n",
              " [4904, 4773, 4618, 5103, 1317, 442, 1068, 7610],\n",
              " [1718, 6161],\n",
              " [914, 6466, 3341, 815, 5706],\n",
              " [4785, 2850, 6327, 5374, 5730],\n",
              " [3406, 2228, 7665, 5984, 5983, 861],\n",
              " [1994, 1581, 6839, 6075, 3376, 550],\n",
              " [1154, 1226, 5311, 6281, 4912],\n",
              " [6700, 7003, 1572, 7610, 4047, 7535],\n",
              " [2135, 3742, 3384, 3745, 910, 7999, 4171],\n",
              " [4270, 4218, 7636, 6075, 5194, 427],\n",
              " [1994, 2283, 4618, 7024, 603],\n",
              " [4457, 7285, 4912, 6500],\n",
              " [7982, 2850, 603],\n",
              " [1856, 6488, 3405, 6075, 1932, 257, 427],\n",
              " [7956, 3630, 676, 3319, 4385, 910, 5706],\n",
              " [5101, 4385, 4618, 7099, 1707, 4656, 6075],\n",
              " [2439, 1455, 7408],\n",
              " [81, 6422, 4784, 3361, 5642, 786, 6537, 5820],\n",
              " [7297, 6924, 1533, 3164],\n",
              " [2850, 1731],\n",
              " [3022, 3970, 81, 7643, 871, 7452],\n",
              " [3945, 5217, 2808, 6663, 6705, 6619],\n",
              " [3570, 5754, 6075, 555, 3251, 6432],\n",
              " [5678, 4996, 2043, 650, 6692, 4618, 4494],\n",
              " [5678, 5997, 6414, 4322, 3139, 5812],\n",
              " [6060, 386, 786],\n",
              " [6891, 7828, 6071, 6505],\n",
              " [7902, 3765, 3405],\n",
              " [3069, 4052, 5575, 1245, 421, 6924],\n",
              " [2423, 4844, 4618, 2245, 4177, 6161, 1226],\n",
              " [1683, 625, 3047, 804, 1529],\n",
              " [1154, 81, 304, 2518, 4094, 3101, 6161],\n",
              " [5997, 6414, 2615, 5775, 2848],\n",
              " [2680, 1396, 7982, 507, 4244, 427, 7981],\n",
              " [6676, 4608, 1156, 1718, 7024, 6867, 6619],\n",
              " [3891, 927, 3377],\n",
              " [7819, 3377],\n",
              " [4844, 7610, 4996, 4171, 4522, 7975],\n",
              " [7610, 3325, 1718, 7535, 7091, 3043, 4084],\n",
              " [1154, 87],\n",
              " [2152, 421, 5461, 6391, 4854, 6505, 6432],\n",
              " [1112, 3083, 689, 959, 5820, 3765, 5442, 1683],\n",
              " [3616, 260, 1428, 5469, 6585],\n",
              " [6845, 6975, 6505],\n",
              " [4034, 1173, 3686, 1317, 1147, 427, 7980, 4293],\n",
              " [3545, 7483, 6975, 1707, 4620],\n",
              " [5016, 977, 421, 3405],\n",
              " [3780, 5255, 3966, 7361, 550],\n",
              " [5678, 3966, 7361, 6585, 5483, 6705, 5402, 2403],\n",
              " [4955, 5571, 5209, 6473, 5194],\n",
              " [1994, 7593, 2237, 5943, 819, 4047, 6619],\n",
              " [1583, 1386],\n",
              " [6077, 37, 7355, 2403, 2374, 2105, 5527, 6932],\n",
              " [4594, 1401, 5927, 4618, 597, 3047],\n",
              " [7980, 3319, 5166, 6290, 2142, 2463, 2043, 3536, 276],\n",
              " [4785, 7636, 2850, 4494],\n",
              " [7610, 6020, 5756, 7805, 5053],\n",
              " [6591, 1839],\n",
              " [2850, 4084],\n",
              " [2043, 6071, 291, 1916, 427, 276, 6075],\n",
              " [1569, 1310, 3981, 7111, 1226],\n",
              " [2850, 2197, 6074, 7225, 4522, 6116, 6705, 6619],\n",
              " [6975, 1429],\n",
              " [3979, 7803, 970, 6619],\n",
              " [3297, 6782, 449, 4810, 5389, 1932, 6661],\n",
              " [2547, 1566, 4656, 2580],\n",
              " [4259, 3871, 7386, 6075, 5036, 3251],\n",
              " [7574, 1961, 5167, 5332],\n",
              " [5167, 5194, 7535, 3536, 4656],\n",
              " [3966, 7361, 6648, 5535],\n",
              " [2850, 1533, 5706, 6619],\n",
              " [5752, 7980, 628, 7874, 5487, 511, 6586],\n",
              " [340, 3832, 6071, 3405],\n",
              " [5741, 2154, 7392, 628, 7091, 7099, 2551, 275],\n",
              " [3966, 7361, 4732, 6804, 4612, 550],\n",
              " [7856, 3966, 7361, 7928],\n",
              " [734, 7665, 6001, 6391, 725, 6505],\n",
              " [2403, 1414, 2370, 4588, 6890, 1515],\n",
              " [3747, 5897, 7408],\n",
              " [2423, 4844, 7982, 2551, 637, 4171],\n",
              " [3111, 1630, 1642, 4718, 555, 3405, 7980, 6432],\n",
              " [508, 704, 3966, 7361, 6619],\n",
              " [480, 264, 6619],\n",
              " [5897, 3966, 7361, 4633, 6056, 5820],\n",
              " [7980, 4946, 1781, 3030, 4946, 4777, 6985],\n",
              " [4983, 6804, 4343, 6860, 786],\n",
              " [7346, 2915, 3536, 4620],\n",
              " [3083, 2551, 4489],\n",
              " [1999, 1948, 172, 760, 366, 6657],\n",
              " [4955, 5897, 7570, 268, 6705, 6619],\n",
              " [1154, 7382, 1146, 710, 7185, 1465],\n",
              " [2850, 6890],\n",
              " [1154, 3865, 4414, 5442, 1738, 3669, 6619],\n",
              " [5721, 2038, 3080, 1317, 4171, 4718],\n",
              " [5897, 3966, 7361, 2748, 704, 6619],\n",
              " [54, 1265, 4353, 4288, 4084, 4844, 7610],\n",
              " [5752, 4463, 7402, 1731, 959],\n",
              " [3601, 7982, 4150, 2915, 2580, 4620],\n",
              " [3966, 7361, 704, 7547, 3061, 6619],\n",
              " [5571, 6075, 7232],\n",
              " [5471, 6465, 7080, 3361, 4415, 4122, 3405],\n",
              " [4654, 1970, 5469, 6505, 6705, 2257, 1932],\n",
              " [7980, 3702, 5706, 7264, 7408, 3662],\n",
              " [1673, 4940, 5582, 2149, 663, 2374, 4656],\n",
              " [3861, 6964, 6975, 6505, 6804, 4343, 1515, 6713],\n",
              " [5897, 4631, 7311, 5535],\n",
              " [378, 440, 1555, 3382, 2598],\n",
              " [1932, 3083, 689],\n",
              " [5819, 6924, 5754, 1317, 427, 7610],\n",
              " [2333, 6700, 7003, 3090, 4177, 7383],\n",
              " [3277, 3120, 81, 3647, 656, 1004],\n",
              " [5752, 5031, 6619],\n",
              " [3966, 7361, 7311, 5535, 1406, 2235],\n",
              " [2850, 871, 5370, 3865, 4618, 1386],\n",
              " [3601, 1555, 2043, 4620],\n",
              " [138, 6804, 4343, 3361, 3377, 786, 427],\n",
              " [7799, 5943, 5167, 1167, 7535, 7151, 5389],\n",
              " [3964, 3405, 449, 3319],\n",
              " [334, 3384, 2166],\n",
              " [5997, 6414, 670, 6075, 3275],\n",
              " [4654, 3377],\n",
              " [5897, 5368, 5922, 6867, 819, 5167],\n",
              " [81, 5721, 427, 5820],\n",
              " [3108, 4618, 2848],\n",
              " [5897, 3966, 7361, 2780, 5514, 6619],\n",
              " [4131, 6081, 7803],\n",
              " [1663, 7532, 6705, 5259, 3061, 6619, 550],\n",
              " [1068, 2635, 3405, 2816, 3061, 3978],\n",
              " [1729, 7082, 786],\n",
              " [5997, 6414, 4531, 3275],\n",
              " [1235, 2719, 4004, 7805, 6860, 1873, 4166],\n",
              " [5978, 5978, 4786, 4912, 4784, 4284, 689, 3361, 3377],\n",
              " [4771, 7164, 7167, 6009, 4736],\n",
              " [1533, 2021, 2055, 1465, 5819, 5194],\n",
              " [4240, 3645, 6075, 2655, 5053, 7980],\n",
              " [1989, 3501, 6280, 5170, 3251],\n",
              " [3765, 5752, 6075, 3405],\n",
              " [7610, 1395, 3549, 2576, 3562, 2460, 4618, 4084],\n",
              " [4544, 6081, 7628, 6753, 5259],\n",
              " [6075, 2460, 879, 677],\n",
              " [257, 6397, 4958, 4620],\n",
              " [3990, 677, 4343],\n",
              " [1109, 3086, 7862, 3780, 1630],\n",
              " [4292, 7382, 1146],\n",
              " [1154, 4823, 34, 1147, 5137, 1054],\n",
              " [2850, 7975],\n",
              " [7413, 96, 1839, 6075, 2558, 4618, 6165],\n",
              " [6850, 5103, 3536],\n",
              " [5505, 4554, 1271, 1699, 4368],\n",
              " [4955, 2178, 7172, 2166],\n",
              " [4302, 2816],\n",
              " [914, 3687, 3536, 4620],\n",
              " [7982, 3601, 6804, 4343],\n",
              " [1154, 7699, 7091, 6504, 6806, 6890, 5820],\n",
              " [5897, 3966, 7361],\n",
              " [467, 4084],\n",
              " [6591, 1839, 6712, 6075, 4618, 3536, 427],\n",
              " [1711, 631, 3848, 6165, 1292, 6820, 3405],\n",
              " [5270, 677],\n",
              " [5888, 2589, 6083, 786],\n",
              " [3161, 3849, 7535, 3536, 4633, 4656],\n",
              " [4811, 6527, 3765, 1533, 5730],\n",
              " [3138, 4618, 6329, 550],\n",
              " [4955, 448, 6264, 6505, 618, 15, 5893, 2123],\n",
              " [7980, 4712, 7610, 3165, 3405, 6075, 3623, 3405],\n",
              " [1994, 4785, 5706, 5514, 5943, 7092],\n",
              " [7574, 5332],\n",
              " [7982, 5285],\n",
              " [2366],\n",
              " [4675, 1630, 775, 3134, 7636, 6890],\n",
              " [2256, 2900, 7053, 2295, 7982, 7053, 7082, 6890, 2403],\n",
              " [6414, 348, 3433, 6071, 2605],\n",
              " [3161, 550, 1533, 5055, 6705, 7085],\n",
              " [7496, 4802, 1731],\n",
              " [2850, 4287, 6654, 6932, 4494, 427, 2114],\n",
              " [3765, 1068, 6479, 3405],\n",
              " [4270, 7185, 6505],\n",
              " [6473, 6545, 7666, 7192, 6505, 427, 2403],\n",
              " [3212, 6391, 3361, 4656],\n",
              " [5368, 5922, 3800, 819],\n",
              " [1984, 7936, 5897, 1718, 4631, 7982, 2871],\n",
              " [6568, 6739, 3405, 6801],\n",
              " [1235, 2439, 276, 3341, 2530, 1247],\n",
              " [5489, 3536],\n",
              " [6075, 6975, 6505],\n",
              " [3069, 257, 4655, 3536],\n",
              " [5997, 6414, 2471, 871, 1731],\n",
              " [3592, 4785, 959, 4633, 677],\n",
              " [3570, 5754, 786],\n",
              " [1994, 3376, 6075, 449, 6600, 7874, 7452],\n",
              " [54, 1265, 3082, 6619, 550, 5259],\n",
              " [6338, 3537, 5333],\n",
              " [650, 2283, 3632, 6629, 4656],\n",
              " [54, 1265, 68, 507, 2848, 427],\n",
              " [4594, 1401, 7532, 13, 6705, 6619, 550],\n",
              " [6804, 3480, 854, 2374, 4656],\n",
              " [2275, 2901],\n",
              " [6524, 1551, 3653, 5332],\n",
              " [3995, 1855, 2588, 6975, 4007],\n",
              " [4844, 7610, 1679, 5630, 7505, 743, 2540],\n",
              " [7783, 5457, 3670, 984, 4802, 5754, 3765],\n",
              " [4891, 2883, 6466, 4210, 41, 4171],\n",
              " [7322, 6075, 81, 427, 5402],\n",
              " [3966, 7361, 1406, 5134, 5469, 3989, 550],\n",
              " [3161, 4844, 7610, 4314, 4618, 1317],\n",
              " [3546, 3405],\n",
              " [2850, 7408],\n",
              " [2850, 4290, 1386, 2984],\n",
              " [5109, 5167, 3376, 1317],\n",
              " [449, 4620, 3601, 4150, 4084, 1167, 2580],\n",
              " [7582, 7317, 2271, 1013, 108, 1568, 7722],\n",
              " [2178, 116, 1680, 1533, 5706],\n",
              " [5368, 5922, 13, 2780, 6075, 5716],\n",
              " [4973, 3577, 5943, 1015, 1122, 7092, 3211],\n",
              " [4678, 7980, 6052, 6495, 1226, 1486],\n",
              " [7980, 7639, 2956, 3006, 5053, 6924, 6456, 6548],\n",
              " [6397, 4958, 5416, 3376, 3361, 1317, 5943, 7682],\n",
              " [398, 2956, 3405],\n",
              " [613, 6505, 427, 2580, 81],\n",
              " [7407, 7955, 4631, 4171, 7980],\n",
              " [3373, 4785, 7682, 6931, 7278, 4620, 1317],\n",
              " [5897, 3966, 7361, 4928, 6705, 7799],\n",
              " [7776, 6165, 6783, 7171, 2781, 4620],\n",
              " [5442, 3995, 1855, 6602, 4916, 1577, 661],\n",
              " [3966, 7361, 2077],\n",
              " [4300, 4618, 4370, 1533, 6619],\n",
              " [3606, 3547, 7966, 6505],\n",
              " [4788, 2551, 2228],\n",
              " [3198, 1653, 7482, 5820, 13, 3684],\n",
              " [7610, 5997, 6414, 3275],\n",
              " [1154, 2527, 4292, 7975],\n",
              " [2850, 744, 7874, 2417, 5893, 2123, 507],\n",
              " [2850, 3061, 6619, 4946, 1995],\n",
              " [4712, 1226, 3209, 4542],\n",
              " [6305, 1683, 3172, 6651, 4060, 6075, 4793],\n",
              " [7610, 6933, 1239, 3405],\n",
              " [4736, 4617, 3623, 5487, 633, 3405],\n",
              " [613, 6712, 6161, 2848, 427, 2558],\n",
              " [5897, 4594, 1401, 7691, 1286, 7408],\n",
              " [6075, 449, 5943, 2237, 5124, 677, 4343, 6505],\n",
              " [5795, 6636, 4171],\n",
              " [3966, 7361, 2580, 2580, 421],\n",
              " [1154, 6804, 4343, 7699, 7091, 7276, 6890, 427, 276],\n",
              " [2850, 4494],\n",
              " [2439, 1455, 4006, 5558, 4389, 4171],\n",
              " [2850, 1226, 5897],\n",
              " [1962, 3830, 5984, 5732, 5389],\n",
              " [4631, 1533, 7602, 2981],\n",
              " [4650, 4095, 2316, 4144, 4084],\n",
              " [7980, 421, 6739, 555, 427],\n",
              " [3702, 7936, 5105, 632, 7408, 550, 816],\n",
              " [7254, 6968, 2540, 6619],\n",
              " [7310, 3474, 3405],\n",
              " [5897, 3966, 7361, 6800, 5745, 421],\n",
              " [5489, 4494, 677, 4343],\n",
              " [7982, 934, 6205, 786],\n",
              " [4714, 4343, 6975, 4007],\n",
              " [513, 6804, 4343, 6071, 725, 3623, 5053],\n",
              " [3966, 7361, 1425],\n",
              " [5118, 4243],\n",
              " [421, 7893, 4282, 7459],\n",
              " [6052, 5433, 5372, 6075, 4177, 7016, 1970, 1731],\n",
              " [2757, 5943, 2558, 2056, 494, 7622, 1223, 2228],\n",
              " [2850, 550],\n",
              " [871, 4785, 993, 1994, 4654, 4620],\n",
              " [7610, 6654, 307, 7311, 5535, 1171],\n",
              " [3966, 7361, 5134, 550],\n",
              " [613, 3415, 4343, 871, 427, 5589, 3077, 6505],\n",
              " [4743, 1393],\n",
              " [54, 1265, 7641, 1360, 6591, 6890],\n",
              " [4785, 5024, 4245, 7668, 172, 4618, 6619],\n",
              " [5933, 4171, 4522, 6845, 6766, 6619],\n",
              " [1154, 3950, 6935, 6890],\n",
              " [2938, 7078, 4785, 3806],\n",
              " [3765, 3405, 3138, 2055, 6757, 603],\n",
              " [4973, 4639, 4249, 2122, 5389],\n",
              " [3562, 2460, 4084],\n",
              " [1994, 5943, 7381, 5167, 6245, 6093, 564],\n",
              " [7980, 7276, 677, 5820, 1112, 1932, 2558, 421, 257],\n",
              " [7192],\n",
              " [827, 3405],\n",
              " [3966, 7361, 3317, 7217, 795, 2235],\n",
              " [7980, 7614, 7806, 2580, 857, 2283, 5194],\n",
              " [3149, 399, 4489, 1997, 4084, 427],\n",
              " [1618, 2104, 6071, 4954, 1731, 5812],\n",
              " [3198, 1653, 1932, 5754, 6165, 533, 793, 3405],\n",
              " [3702, 7982, 1822, 550, 7249, 4618],\n",
              " [7813, 7959, 3405],\n",
              " [5678, 3966, 7361, 7505, 4479],\n",
              " [5914, 2634, 1916, 7610],\n",
              " [1100, 217, 4618, 6538, 1000, 2540, 7232],\n",
              " [54, 1265, 3117, 7403, 427],\n",
              " [7382, 2816],\n",
              " [2850, 1226, 5506, 257, 603],\n",
              " [7980, 6397, 4958, 6471, 291, 6165, 6932],\n",
              " [2516, 6606, 6629, 5514, 275],\n",
              " [4955, 4282, 7459, 2516, 6606],\n",
              " [5914, 2634, 1994, 7091, 3679],\n",
              " [4594, 1401, 3447, 5259, 5706],\n",
              " [405, 5986, 6047, 521],\n",
              " [992, 2060, 2484, 7064, 3948],\n",
              " [7665, 7549, 7913, 3932, 2783, 6860],\n",
              " [6391, 2781, 3405],\n",
              " [4701, 823, 3251, 6075],\n",
              " [5897, 4785, 3945, 3047, 6075, 4618],\n",
              " [6619, 4763, 6619],\n",
              " [2680, 2729, 2460, 879, 3564],\n",
              " [4302, 2816, 7610, 3832, 3251],\n",
              " [5897, 2850, 2848],\n",
              " [4369, 2714, 3134, 7403],\n",
              " [4198, 2978, 3344, 6890],\n",
              " [3846, 603],\n",
              " [7309, 7158, 4773, 2166],\n",
              " [4084],\n",
              " [5457, 1999, 7670, 7805],\n",
              " [6658, 2530, 7480, 3869, 2043, 1628, 1226],\n",
              " [5489, 5036, 7699, 1868, 7596, 3251],\n",
              " [1946, 2305, 7073, 3976, 805, 3356],\n",
              " [467, 677, 5350, 4084, 959],\n",
              " [4411, 477, 4633, 7408],\n",
              " [6430, 2816, 1790, 7217, 795, 2235],\n",
              " [6886, 6505],\n",
              " [6898, 4388, 635, 2488, 993, 4620, 427],\n",
              " [7990, 5754, 7546, 4489, 7232],\n",
              " [7982, 1785, 745, 7610, 7814, 1396, 689],\n",
              " [2741, 5910, 1731, 6161],\n",
              " [2850, 7225, 704, 5918, 3341, 6075, 4522, 6705],\n",
              " [1154, 4292, 2527],\n",
              " [7936, 1709, 1697, 3616, 260, 5706],\n",
              " [6210, 6636, 917],\n",
              " [5489, 2297, 6766, 2403, 797, 1932],\n",
              " [7982, 3198, 1653, 1932, 6895, 4514, 427, 5820],\n",
              " [6985, 3667, 637, 56, 3361, 4771],\n",
              " [7799, 7126, 2846, 5943, 871, 1076, 7092, 5389],\n",
              " [2043, 6414],\n",
              " [448, 6264, 7064, 3948],\n",
              " [2978, 7082],\n",
              " [4457, 7285, 5480],\n",
              " [5997, 6414, 5311, 4618, 1731],\n",
              " [7151, 5984, 1932, 6932, 4771],\n",
              " [3990, 1348, 6505],\n",
              " [2707, 421, 1348, 427],\n",
              " [2806, 2043, 7171, 21, 735, 5194],\n",
              " [5897, 3966, 7361, 70, 2, 7452],\n",
              " [4314, 1481, 6562, 3405],\n",
              " [1440, 190, 2704, 677, 4955],\n",
              " [2275, 2690, 5194],\n",
              " [3164, 4618, 3082],\n",
              " [1569, 1310, 7982, 4912, 4784, 7628, 6890, 2403],\n",
              " [5043, 1386],\n",
              " [4973, 1004, 2551, 5635, 2540, 3211],\n",
              " [54, 1265, 569, 6075, 4618, 3134, 7403],\n",
              " [2850, 1533, 6771, 6619],\n",
              " [3908, 2020, 3376, 603, 6161, 5812, 427],\n",
              " [2136, 4006, 3405, 271, 427],\n",
              " [7610, 3662, 6619],\n",
              " [7980, 5820, 2275, 7936, 5105, 632, 628, 4007],\n",
              " [4701, 7367, 7148, 4618, 504],\n",
              " [3945, 5927, 4618, 7092, 550],\n",
              " [7838, 3765, 41],\n",
              " [6676, 1533, 5984, 1208, 6367, 6619],\n",
              " [54, 1265, 5706],\n",
              " [2095, 581, 7929, 7210, 7836, 1847],\n",
              " [13, 5571, 4771, 6505],\n",
              " [7382, 421, 5579],\n",
              " [5983, 4000, 4618, 5706],\n",
              " [2439, 1455, 2228, 5259],\n",
              " [6591, 1839, 4389, 4171, 2487, 7983, 1884, 2551],\n",
              " [6988, 5167, 5332],\n",
              " [4946, 6867, 3066, 2177, 6305, 6075],\n",
              " [7610, 4802, 6864, 4916, 819],\n",
              " [3906, 6457, 6804, 4343, 427],\n",
              " [7482, 2979],\n",
              " [3089, 2246, 4946],\n",
              " [5897, 3966, 7361, 4216],\n",
              " [3272, 2043, 3501, 3662],\n",
              " [7982, 1235, 504],\n",
              " [5897, 3966, 7361, 6648, 4479, 3047],\n",
              " [4576, 4524, 4656, 3377],\n",
              " [2806, 1131, 5584, 736, 427, 276],\n",
              " [4369, 3582, 4785, 6075, 242, 4335, 3405],\n",
              " [4544, 4785, 1932, 2540, 5589, 3251, 427],\n",
              " [5109, 6071, 6935, 5103, 3043, 4084, 5812],\n",
              " [3846, 421, 2425, 984, 4823, 603],\n",
              " [2518, 1932, 898, 5354, 677, 4343, 6505],\n",
              " [3519, 4849, 2374, 4656],\n",
              " [3702, 3061, 6619],\n",
              " [613, 3816, 4620],\n",
              " [2850, 4551, 4144, 1226],\n",
              " [5897, 1095, 7480, 7982, 2729, 736, 910],\n",
              " [421, 1932, 6391, 677],\n",
              " [3730, 2642, 6391, 3405],\n",
              " [2850, 7567, 4618, 3043, 6820, 875, 2460, 1731],\n",
              " [6075, 421, 257, 6975, 6505],\n",
              " [6442, 6527, 421, 1707, 4620, 6238],\n",
              " [1989, 3985, 1533, 7251, 7975, 7980],\n",
              " [4684, 1167, 677, 3405],\n",
              " [6450, 7482, 4385, 5589, 3251],\n",
              " [1109, 5907, 3043, 5812],\n",
              " [318, 6165, 4618, 4939, 3669, 6619, 1061],\n",
              " [483, 6654, 5943, 5595, 4468, 871],\n",
              " [7610, 5897, 4631, 4618, 6524, 2235, 6165],\n",
              " [467, 4843, 677, 3043, 4084],\n",
              " [1785, 7648, 7383, 4177, 6161, 2848],\n",
              " [664, 625, 7980, 1932, 2330, 4771],\n",
              " [5377, 4243, 4727, 3533, 603],\n",
              " [1683, 3817, 2197, 4385, 7023, 4618, 550],\n",
              " [2850, 6249, 2848],\n",
              " [3966, 7361, 1406, 7928],\n",
              " [6075, 7975],\n",
              " [7033, 3030, 3306, 1239, 3405, 1489, 5053],\n",
              " [589, 1974, 1317, 81, 6075, 3319],\n",
              " [7936, 37, 3780, 3319, 6806],\n",
              " [6891, 7828, 6975, 4656],\n",
              " [1235, 628, 3021, 6075, 4618, 3047],\n",
              " [4736, 6782, 449, 7256, 2228],\n",
              " [878, 2947, 7234, 1683, 4736, 3405, 5053],\n",
              " [5897, 81, 2850, 7225, 4522, 1844, 2166, 3243],\n",
              " [2151, 569, 249, 2738, 4777],\n",
              " [936, 7361, 7982, 1406, 4494],\n",
              " [3533, 7546, 1154, 7699, 7091, 6975, 4771, 6505],\n",
              " [1772, 4067, 4284, 1317, 3405],\n",
              " [3966, 7361, 550, 2690, 1611],\n",
              " [3076, 6465, 6933, 3405],\n",
              " [3702, 5428, 3209, 4542],\n",
              " [6548, 7264, 2605, 5635, 819],\n",
              " [5036, 4939, 4844, 7610, 3704, 1822, 6890],\n",
              " [499, 6701, 6071, 3832, 3405],\n",
              " [6323, 3254, 7535, 1576, 4084, 871, 427],\n",
              " [6591, 1839, 4654, 3059, 3950, 786, 959],\n",
              " [732, 2993, 3765, 5706],\n",
              " [3448, 1317],\n",
              " [1953, 4171],\n",
              " [7622, 5649, 6391, 1465, 6410, 3405],\n",
              " [3083, 7980, 2055, 3415, 4343, 6505, 427],\n",
              " [5368, 5922, 4438, 871, 5943, 7799, 5389, 3171],\n",
              " [5997, 6414, 2580, 427, 442],\n",
              " [7936, 2872, 7981, 1174, 6159, 3129, 6618],\n",
              " [5118, 2806, 21, 6860],\n",
              " [7911, 5395, 7901, 6075, 7874, 6804, 4343, 6890],\n",
              " [7982, 914, 4620, 427, 2580, 6299, 7091],\n",
              " [5368, 5922, 427, 2228],\n",
              " [871, 427, 7171, 3309, 7946, 7618, 3909, 2283],\n",
              " [2282, 4440, 7982, 603, 427, 2460, 6505],\n",
              " [4282, 2203, 4656],\n",
              " [5670, 5059, 7896, 5463, 6071, 6598, 3405, 3259],\n",
              " [2874, 3030, 607, 3579, 4785, 3405],\n",
              " [4457, 2938, 7285, 427, 7982],\n",
              " [1946, 5194],\n",
              " [5165, 4790, 7403, 81, 427],\n",
              " [5037, 269, 3166, 1822, 4178, 3404],\n",
              " [549, 4166, 4166, 7254, 7266, 5259],\n",
              " [7980, 4442, 1871, 7482, 3043, 6820, 3134, 7403],\n",
              " [1154, 7924, 2094, 1226],\n",
              " [3605, 2527, 5424, 1782, 6071, 6574, 5053, 5754],\n",
              " [1154, 2580, 992, 4292, 1852, 427, 7982],\n",
              " [4785, 3069, 3816, 427, 276],\n",
              " [3966, 7361, 7588, 704, 871],\n",
              " [3966, 7361, 4928, 4479, 6619],\n",
              " [4173, 2283, 5873, 3519, 3405],\n",
              " [7610, 3590, 2077, 1348, 6505],\n",
              " [7238, 3970, 3047],\n",
              " [5897, 3966, 7361, 7264, 226, 7564, 6619],\n",
              " [5897, 5984, 2809, 4836, 4285, 6705],\n",
              " [5368, 5922, 6782, 449, 871, 4810],\n",
              " [4785, 3373, 1362, 4620],\n",
              " [7382, 3209, 4542],\n",
              " [3966, 7361, 5984, 5469, 5706, 6619, 704],\n",
              " [1112, 6463, 7091, 6804, 4343, 2722, 6505, 4955],\n",
              " [1154, 1403, 2848],\n",
              " [610, 7854, 7628, 4771, 6505],\n",
              " [257, 7612, 2460, 879, 1362, 677],\n",
              " [5752, 4463, 5706],\n",
              " [5489, 6804, 1504, 3361, 6441],\n",
              " [3966, 7361, 5745, 754],\n",
              " [3076, 6465, 427, 3405],\n",
              " [2806, 898, 5067, 427, 7982],\n",
              " [6979, 7014, 6075, 5402, 6705],\n",
              " [900, 2043, 675, 3815, 7610],\n",
              " [3945, 1903, 1731],\n",
              " [2850, 4785, 6466, 6075, 4494],\n",
              " [7980, 54, 1265, 5897, 22, 7153, 5706],\n",
              " [923, 1616, 7542, 603],\n",
              " [3702, 5706, 7408, 4650, 6867],\n",
              " [3966, 7361, 1533, 6585, 1436, 5745],\n",
              " [3085, 2395, 6466, 7403],\n",
              " [7610, 7419, 2729, 6255, 7675, 1317, 4171],\n",
              " [4036, 2848, 5118, 2283, 1465, 81, 427],\n",
              " [5951, 2374, 2460, 879, 3296, 3536],\n",
              " [54, 1265, 3165, 6705, 6619],\n",
              " [3869, 6591, 1839, 553, 2354, 2354],\n",
              " [4650, 1995, 4173, 5378, 1317],\n",
              " [3211, 819, 5259, 4087],\n",
              " [1962, 6586],\n",
              " [7049, 672, 6767, 6726, 3533],\n",
              " [2717, 7797, 1442],\n",
              " [5016, 977, 1718, 4618, 1970, 504, 1731],\n",
              " [4973, 5389],\n",
              " [3076, 6465, 1937],\n",
              " [2850, 2166],\n",
              " [3765, 6071, 3061, 633, 3405],\n",
              " [7956, 3630, 6781, 6975, 6505],\n",
              " [1429, 4617, 6398, 4771, 6505],\n",
              " [6501, 1914, 5732, 2848],\n",
              " [2850, 2460, 6005, 1556, 7854, 7982, 603, 4081],\n",
              " [4594, 1401, 3047, 3817, 5927, 4618],\n",
              " [2850, 2964, 6586, 3047, 550],\n",
              " [4618, 3091],\n",
              " [3218, 7839, 1583, 7452],\n",
              " [5663, 7480, 6290, 6001, 4171],\n",
              " [7177, 7975],\n",
              " [4785, 2551, 1486],\n",
              " [5463, 7597, 4618, 1317],\n",
              " [1989, 3501, 1533, 7092, 5730],\n",
              " [1907, 4699, 910, 6538, 866],\n",
              " [1711, 631, 3848, 6804, 4343, 5194, 5402],\n",
              " [5368, 5922, 5167, 5402, 6761, 831, 6661],\n",
              " [5487, 6891, 7828, 3377, 959, 3841],\n",
              " [2985, 504],\n",
              " [4206, 3692, 5885, 4771],\n",
              " [3966, 7361, 4928, 3047],\n",
              " [878, 236, 6135, 2583],\n",
              " [2850, 22, 704, 5897, 6705, 6619],\n",
              " [7783, 4385, 715, 1679, 3279],\n",
              " [6782, 449, 1115, 2043, 2551, 5389],\n",
              " [1700, 1208, 81, 3487, 7743, 4524, 1317, 5820],\n",
              " [6397, 4958, 828, 7064, 4618, 1317, 6432],\n",
              " [7980, 4594, 1401, 4618, 5439, 6524],\n",
              " [883, 5487, 3361, 6820, 6505],\n",
              " [6397, 4958, 2808, 6391, 555, 3405, 2588, 6391, 6432],\n",
              " [1679, 4714, 2284, 7776, 1054, 4084, 1167, 4620],\n",
              " [5032, 1756, 5805, 7326],\n",
              " [7841, 4533, 6410, 5047],\n",
              " [7413, 2514, 7982, 5332],\n",
              " [3161, 7628, 4912, 4784, 271, 6890],\n",
              " [930, 5635, 3090, 1707, 4620],\n",
              " [6804, 4343, 6890],\n",
              " [5209, 6233, 6052, 3129, 249, 7452],\n",
              " [5897, 5997, 3847, 2, 6619],\n",
              " [4594, 1401, 3047, 550],\n",
              " [7982, 4363, 677],\n",
              " [4872, 7966, 677],\n",
              " [6982, 3864, 2228],\n",
              " [4996, 13, 7803, 6346, 7985, 6705],\n",
              " [7126, 1932, 2275, 7131, 427, 276],\n",
              " [3677, 6040],\n",
              " [1994, 6824, 6075, 3376, 3061, 1711, 6619],\n",
              " [5489, 1515, 421, 637, 7355, 427],\n",
              " [2114, 6524, 1551, 81, 3837, 3259],\n",
              " [3129, 249, 1599, 5402, 4940, 526],\n",
              " [5368, 5922, 7264, 1026, 7787, 427],\n",
              " [2978, 2722, 1154, 677],\n",
              " [1994, 7232, 3906, 6890],\n",
              " [1514, 6702, 3405],\n",
              " [7980, 1571, 7642, 4895, 7526, 3405],\n",
              " [54, 1265, 533, 2237, 5730],\n",
              " [3111, 6075, 3405, 4575, 959, 276],\n",
              " [3966, 7361, 2580, 2580, 421],\n",
              " [2275, 5326, 4007],\n",
              " [4438, 6093, 3211],\n",
              " [5167, 5194, 2846, 4257, 1998, 3832, 3405],\n",
              " [54, 1265, 1219, 4618, 7975],\n",
              " [7980, 3966, 7361, 5855, 6619],\n",
              " [2884, 2541, 5368, 1533, 1731],\n",
              " [613, 6075, 6391, 3405, 6804, 4343, 427],\n",
              " [2850, 6249, 4071, 1533, 6619],\n",
              " [3218, 2530, 7480, 7644, 5121, 603],\n",
              " [3161, 5055, 5483, 704, 1541],\n",
              " [1994, 7452],\n",
              " [1994, 6982, 2605, 819],\n",
              " [6397, 4958, 1953, 4492, 291],\n",
              " [2680, 2729, 3948, 7803, 4654, 6175],\n",
              " [7546, 7199, 7403],\n",
              " [7220, 421, 4620],\n",
              " [3966, 7361, 6320, 5535, 6867, 5706],\n",
              " [3742, 3384, 6585, 3030, 3492, 4733, 6075],\n",
              " [81, 5194],\n",
              " [6075, 4243, 3667, 3421],\n",
              " [662, 3915, 5635, 819],\n",
              " [2362, 5389],\n",
              " [2275, 4050, 6505, 5820, 7980],\n",
              " [4512, 7255, 6075, 5608, 4343, 5194],\n",
              " [5873, 898, 6796, 2848],\n",
              " [4785, 6453, 5792, 2816, 427],\n",
              " [5259, 1079, 7385, 3536, 427],\n",
              " [5678, 3966, 7361, 1755, 6705, 6619],\n",
              " [7082, 3198, 1653, 7983, 736, 427, 5820],\n",
              " [5897, 4785, 6676, 4608, 704, 5706],\n",
              " [5165],\n",
              " [3198, 1653, 3402, 5053, 6391],\n",
              " [5505, 6281, 314, 6075, 4727, 689],\n",
              " [5897, 3966, 7361, 7588, 871, 930, 3972],\n",
              " [3537, 6412, 4494, 2551, 6473, 6586, 4171],\n",
              " [3470, 4618, 4840, 4084],\n",
              " [3047],\n",
              " [2850, 3082, 1931, 5576, 3061, 6619],\n",
              " [4785, 6676, 6134, 6616, 795],\n",
              " [5109, 550],\n",
              " [4594, 1401, 1286, 1932, 5402, 6705],\n",
              " [5487, 5255, 1465, 4489, 4441, 6132, 6890],\n",
              " [4785, 3966, 4912, 7982, 5837],\n",
              " [5167, 421, 5943, 1239, 5259],\n",
              " [5997, 6414, 3822, 2078, 2580],\n",
              " [1932, 3319, 7982, 1700, 1208, 3948],\n",
              " [2107, 3670, 7765, 1386, 1932],\n",
              " [6123],\n",
              " [7628, 6075, 677],\n",
              " [4996, 5706, 3061, 6619],\n",
              " [54, 1265, 3461, 7782, 2235, 795],\n",
              " [3966, 7361, 3089, 5730],\n",
              " [4785, 2574, 4618, 879, 2314],\n",
              " [6208, 5372, 4084, 427, 442],\n",
              " [5897, 5752, 5031, 4463, 1226],\n",
              " [3570, 5754, 2979],\n",
              " [3546, 4633, 6817, 1317, 3592, 1932],\n",
              " [7109, 4302, 7171, 7420, 1649, 1104, 4711],\n",
              " [1757, 835, 2228],\n",
              " [6010, 5316, 2718, 1671],\n",
              " [4211, 22, 6591, 786],\n",
              " [4594, 1401, 550],\n",
              " [5442, 5610, 2828, 2441, 6705],\n",
              " [3966, 7361, 5745],\n",
              " [7382, 3158, 427, 2778],\n",
              " [4983, 3455, 6638, 3405],\n",
              " [2403, 3536],\n",
              " [2403, 2403, 5663, 4297, 4084],\n",
              " [1226, 5897, 3765, 7459],\n",
              " [4399, 972, 7063, 4157, 4524, 4171, 4655],\n",
              " [5951, 2374, 3536],\n",
              " [3966, 7361, 7311, 5535],\n",
              " [855, 7015, 4575, 7148, 4489, 3377],\n",
              " [4955, 993, 202, 1362, 2166],\n",
              " [5109, 4171, 930, 3972],\n",
              " [6151, 1464, 2439, 3139, 6997],\n",
              " [6388, 5121, 5893, 1073, 6932, 3822],\n",
              " [4785, 3966, 7361],\n",
              " [5752, 1735, 4463, 2010, 1731, 3275],\n",
              " [4631, 6867, 6619, 7982, 1068, 7610],\n",
              " [3069, 2253, 6806],\n",
              " [1761, 3559, 1226],\n",
              " [6332, 1683, 7902, 7890, 5943, 5053],\n",
              " [3966, 7361, 3364],\n",
              " [4243, 7982, 4618, 4727, 427],\n",
              " [1917, 2075, 4620],\n",
              " [7982, 427, 1154, 2777, 7776, 7735],\n",
              " [2253, 4650, 1995, 1994, 603],\n",
              " [3069, 6806],\n",
              " [3966, 7361, 704, 2324, 550],\n",
              " [5568, 4900, 7980, 3083, 2540, 6890],\n",
              " [848, 5945, 1808, 2174, 6318, 7980, 5820],\n",
              " [4950, 3079, 2486, 6710, 2646, 1239, 3405],\n",
              " [467, 3047],\n",
              " [5897, 6676, 6705, 6075, 5402],\n",
              " [5752, 5943, 2237, 2848],\n",
              " [3979, 6075, 2780, 5514, 2655, 3047],\n",
              " [4600, 7151, 6075, 6804, 3080, 3263, 910, 7064],\n",
              " [4955, 561, 6610, 6619, 5442, 4139, 4438, 2114],\n",
              " [4244, 3857, 2283, 6505, 427, 7981],\n",
              " [326, 1782, 4718, 7253, 5706, 6619],\n",
              " [5296, 6823, 2867, 6505],\n",
              " [4715, 7805, 5527, 3377],\n",
              " [4785, 2850, 5754, 7225, 744, 3061, 6619],\n",
              " [1700, 1208, 735, 1317],\n",
              " [3172, 5326, 1226, 959],\n",
              " [5897, 3966, 7361, 7408],\n",
              " [3184, 769],\n",
              " [499, 6701, 5761, 6071, 1533, 3405],\n",
              " [6676, 6586, 6820, 7468, 7874],\n",
              " [3976, 5167, 7799, 5943, 2228],\n",
              " [1429, 2132, 81, 421, 7383, 7403, 7610],\n",
              " [421, 5943, 2135, 3742, 3384, 1235, 3341, 6619],\n",
              " [5928, 5332, 6085, 6075],\n",
              " [4955, 7656, 3833, 4997, 3721, 7806, 3405],\n",
              " [451, 6132, 3656, 6165],\n",
              " [6975, 1154, 4007],\n",
              " [449, 3134, 7403],\n",
              " [4292, 7382, 1146, 7610, 4047],\n",
              " [4119, 1932, 2283, 3307, 3361, 6505],\n",
              " [6397, 4958, 6391, 788, 3209, 3405],\n",
              " [5368, 5922, 5943, 5167, 124, 5389],\n",
              " [4965, 6823, 4385, 910, 3684, 959],\n",
              " [2439, 1455, 967, 5732, 2066, 5684, 6705],\n",
              " [54, 1265, 2523, 2848, 4618],\n",
              " [3966, 7361, 5134, 2750, 7408],\n",
              " [1683, 6586],\n",
              " [4973, 4639, 2388, 4361, 2580, 2540, 3211],\n",
              " [3966, 7361, 1406, 2235, 436, 4570, 4494],\n",
              " [5285, 7064, 6804, 4343, 6890, 427, 2403],\n",
              " [5442, 3737, 354, 3512, 6391, 4489, 3405],\n",
              " [6075, 4618, 4740, 5812],\n",
              " [5897, 3149, 1515, 1076, 5036, 4084, 427],\n",
              " [5897, 6075, 1994, 2848, 427],\n",
              " [1882, 4388, 912, 3405, 1466, 442, 7980],\n",
              " [3259, 6591, 1839, 7656, 4489, 2283],\n",
              " [4017, 3575, 6075, 1707, 4620],\n",
              " [883, 4539, 3405, 7610, 6524, 4650, 1995],\n",
              " [2275, 7533, 3536, 901, 6391],\n",
              " [1624, 675],\n",
              " [7982, 4772, 3345, 5469, 4171],\n",
              " [4731, 5706, 3662, 6692, 533, 4618],\n",
              " [3790, 6511, 4785, 663, 6619, 3082],\n",
              " [2403, 7982, 3276, 4369, 6116, 3080, 1317],\n",
              " [5286, 2056, 7253, 5635, 819],\n",
              " [3966, 7361, 4459, 7311, 550, 1171],\n",
              " [5873, 6924, 4810, 3361, 5194],\n",
              " [1317],\n",
              " [6011, 421, 1154, 4292, 1852],\n",
              " [119, 2101, 5717, 7080, 3533],\n",
              " [3373, 1487, 7982, 2722, 7091, 2580],\n",
              " [5897, 5109, 6619],\n",
              " [1946, 7122, 421, 677],\n",
              " [4857, 4960, 6705, 7177, 2891],\n",
              " [1802, 4620, 2518, 1932],\n",
              " [7982, 1841],\n",
              " [6263, 6060, 795, 4154],\n",
              " [3966, 7361, 6776, 871],\n",
              " [5368, 5922, 4800, 2912, 3211],\n",
              " [7936, 3616, 260, 6402, 7408],\n",
              " [6891, 7828, 427, 6432, 7082, 6890],\n",
              " [2850, 4620],\n",
              " [5897, 1583, 2780, 5514, 6619, 6075],\n",
              " [7420, 3846],\n",
              " [2354, 782, 3536, 4976, 632],\n",
              " [3702, 3082, 6705, 6075],\n",
              " [7171, 2978, 1729, 1884, 3533],\n",
              " [3069, 81, 2168],\n",
              " [3172, 5812, 1360, 1529, 1995],\n",
              " [3966, 7361, 704, 6667, 6075, 395],\n",
              " [3966, 7361, 7588, 871],\n",
              " [3162, 4084, 569, 249],\n",
              " [959, 5270, 4620],\n",
              " [5997, 3847, 5209, 6586],\n",
              " [3966, 7361, 7588, 4479, 1899, 2780, 5514, 6619],\n",
              " [5873, 6804, 786],\n",
              " [7311, 871, 2580, 2580],\n",
              " [5489, 7847, 6975],\n",
              " [3966, 7361, 2235, 795],\n",
              " [1778, 3188, 2316, 7480, 7452],\n",
              " [6075, 3319, 7874, 1112, 3948],\n",
              " [958, 5992, 5511, 6195, 1630],\n",
              " [7382, 1146, 4509, 7929],\n",
              " [6414, 5812],\n",
              " [5442, 3966, 7361, 1276, 7547, 1640, 898],\n",
              " [3480, 3405, 4814, 6519],\n",
              " [5571, 4150, 7091, 1933, 6890],\n",
              " [1491, 2588, 249, 7482, 3536],\n",
              " [449, 7752, 5638, 4620, 959],\n",
              " [2690, 2816, 5584, 2691, 2314, 6619],\n",
              " [7799, 5943, 3211, 2558, 7124, 4249, 819],\n",
              " [5897, 3966, 7361, 6667],\n",
              " [4631, 4525, 1061, 1995, 427],\n",
              " [4282, 1916],\n",
              " [7047, 3554, 6860, 3405, 4656],\n",
              " [1569, 1310, 2961, 5053],\n",
              " [6663, 7805, 1515, 2574, 736],\n",
              " [7610, 4273, 3166, 787, 6368, 5732],\n",
              " [7225, 6075, 1711, 6867],\n",
              " [4457, 7285],\n",
              " [4785, 4973, 4639, 4274, 4928, 3171, 5389],\n",
              " [1399, 5382, 7597, 3361, 6505, 276, 7799],\n",
              " [4050, 5503, 4522, 2402, 1317, 959, 5820],\n",
              " [2114, 5897, 1240, 4489, 2122, 3211],\n",
              " [54, 1265, 276, 7080, 7346, 6705, 2594],\n",
              " [5678, 3966, 7361, 5535, 1808, 704, 6705, 6619],\n",
              " [4243, 5564, 553, 5754, 898],\n",
              " [3948],\n",
              " [5897, 7610, 3966, 7361, 7311, 7928, 3765],\n",
              " [3218, 569, 2267, 2136, 4617, 3405],\n",
              " [4955, 6501, 4784, 5487, 1317, 6820, 3405],\n",
              " [1994, 2978, 5331, 6075, 3474],\n",
              " [993, 6890],\n",
              " [5889, 2580, 7843, 5943, 7980],\n",
              " [3945, 5172, 4249, 4177, 7383, 603],\n",
              " [299, 4302, 3251],\n",
              " [4537, 6505, 2166, 7092, 6662, 6075],\n",
              " [2395, 3251],\n",
              " [7574, 1961, 5167, 5332, 2603],\n",
              " [2575, 3053, 3317, 5395, 3536, 7980],\n",
              " [119, 2101, 677],\n",
              " ...]"
            ]
          },
          "metadata": {
            "tags": []
          },
          "execution_count": 191
        }
      ]
    },
    {
      "cell_type": "code",
      "metadata": {
        "id": "HQ0XbEnnXNYb"
      },
      "source": [
        "##Embedding Representation"
      ],
      "execution_count": 193,
      "outputs": []
    },
    {
      "cell_type": "code",
      "metadata": {
        "id": "rip_VLPTWTLC",
        "outputId": "18903cda-3d8a-46a7-92f4-4ffa4479af93",
        "colab": {
          "base_uri": "https://localhost:8080/"
        }
      },
      "source": [
        "sent_length=20\n",
        "embedded_docs=pad_sequences(onehot_repr,padding='pre',maxlen=sent_length)\n",
        "print(embedded_docs)"
      ],
      "execution_count": 192,
      "outputs": [
        {
          "output_type": "stream",
          "text": [
            "[[   0    0    0 ...  993 4633  677]\n",
            " [   0    0    0 ... 3765 4618 6619]\n",
            " [   0    0    0 ... 5001 6161 3018]\n",
            " ...\n",
            " [   0    0    0 ... 7621 3047  550]\n",
            " [   0    0    0 ... 2808 2309  689]\n",
            " [   0    0    0 ... 7776 1054 1348]]\n"
          ],
          "name": "stdout"
        }
      ]
    },
    {
      "cell_type": "code",
      "metadata": {
        "id": "B9W_2-PuXQPj",
        "outputId": "4731c8d4-cded-485e-e5ea-316a09cf6749",
        "colab": {
          "base_uri": "https://localhost:8080/"
        }
      },
      "source": [
        "embedded_docs[0]"
      ],
      "execution_count": 194,
      "outputs": [
        {
          "output_type": "execute_result",
          "data": {
            "text/plain": [
              "array([   0,    0,    0,    0,    0,    0,    0,    0,    0,    0,    0,\n",
              "          0,    0,    0, 2816, 7641, 4991,  993, 4633,  677], dtype=int32)"
            ]
          },
          "metadata": {
            "tags": []
          },
          "execution_count": 194
        }
      ]
    },
    {
      "cell_type": "code",
      "metadata": {
        "id": "oalobAeuXRN_",
        "outputId": "ba9a1381-4ea0-4d14-8268-c41f4918638d",
        "colab": {
          "base_uri": "https://localhost:8080/"
        }
      },
      "source": [
        "## Creating model\n",
        "embedding_vector_features=40\n",
        "model=Sequential()\n",
        "model.add(Embedding(voc_size,embedding_vector_features,input_length=sent_length))\n",
        "model.add(LSTM(100))\n",
        "model.add(Dense(5,activation='softmax'))\n",
        "model.compile(loss='sparse_categorical_crossentropy',optimizer='adam',metrics=['accuracy'])\n",
        "print(model.summary())"
      ],
      "execution_count": 252,
      "outputs": [
        {
          "output_type": "stream",
          "text": [
            "Model: \"sequential_6\"\n",
            "_________________________________________________________________\n",
            "Layer (type)                 Output Shape              Param #   \n",
            "=================================================================\n",
            "embedding_6 (Embedding)      (None, 20, 40)            320000    \n",
            "_________________________________________________________________\n",
            "lstm_6 (LSTM)                (None, 100)               56400     \n",
            "_________________________________________________________________\n",
            "dense_6 (Dense)              (None, 5)                 505       \n",
            "=================================================================\n",
            "Total params: 376,905\n",
            "Trainable params: 376,905\n",
            "Non-trainable params: 0\n",
            "_________________________________________________________________\n",
            "None\n"
          ],
          "name": "stdout"
        }
      ]
    },
    {
      "cell_type": "code",
      "metadata": {
        "id": "I4Bvk85xXQ4s",
        "outputId": "39a3a5a9-efdb-4f85-aa76-6ea1e48dcc54",
        "colab": {
          "base_uri": "https://localhost:8080/"
        }
      },
      "source": [
        "len(embedded_docs),y.shape"
      ],
      "execution_count": 253,
      "outputs": [
        {
          "output_type": "execute_result",
          "data": {
            "text/plain": [
              "(1019558, (1019558,))"
            ]
          },
          "metadata": {
            "tags": []
          },
          "execution_count": 253
        }
      ]
    },
    {
      "cell_type": "code",
      "metadata": {
        "id": "3_tUxtwWXP-Q"
      },
      "source": [
        "import numpy as np\n",
        "X_final=np.array(embedded_docs)\n",
        "y_final=np.array(y)"
      ],
      "execution_count": 254,
      "outputs": []
    },
    {
      "cell_type": "code",
      "metadata": {
        "id": "Ngz-y9cyXzzn",
        "outputId": "eb6d17a9-a629-4db7-cb70-a283a5de9930",
        "colab": {
          "base_uri": "https://localhost:8080/"
        }
      },
      "source": [
        "X_final.shape,y_final.shape\n"
      ],
      "execution_count": 255,
      "outputs": [
        {
          "output_type": "execute_result",
          "data": {
            "text/plain": [
              "((1019558, 20), (1019558,))"
            ]
          },
          "metadata": {
            "tags": []
          },
          "execution_count": 255
        }
      ]
    },
    {
      "cell_type": "code",
      "metadata": {
        "id": "sZC5NAS5X0bb"
      },
      "source": [
        "from sklearn.model_selection import train_test_split\n",
        "X_train, X_test, y_train, y_test = train_test_split(X_final, y_final, test_size=0.3, random_state=99)"
      ],
      "execution_count": 256,
      "outputs": []
    },
    {
      "cell_type": "code",
      "metadata": {
        "id": "Vi3bvEo1ZWZ6",
        "outputId": "89eaba25-f7af-49a5-adfe-9b8b94ca7134",
        "colab": {
          "base_uri": "https://localhost:8080/"
        }
      },
      "source": [
        "X_train.shape"
      ],
      "execution_count": 257,
      "outputs": [
        {
          "output_type": "execute_result",
          "data": {
            "text/plain": [
              "(713690, 20)"
            ]
          },
          "metadata": {
            "tags": []
          },
          "execution_count": 257
        }
      ]
    },
    {
      "cell_type": "code",
      "metadata": {
        "id": "R3_h7fJjZZik",
        "outputId": "69700a9d-f4f7-436f-e5be-bfd98e4f2f2f",
        "colab": {
          "base_uri": "https://localhost:8080/"
        }
      },
      "source": [
        "X_test.shape"
      ],
      "execution_count": 258,
      "outputs": [
        {
          "output_type": "execute_result",
          "data": {
            "text/plain": [
              "(305868, 20)"
            ]
          },
          "metadata": {
            "tags": []
          },
          "execution_count": 258
        }
      ]
    },
    {
      "cell_type": "code",
      "metadata": {
        "id": "bDq2izPBX0H6"
      },
      "source": [
        "##Model Training"
      ],
      "execution_count": 259,
      "outputs": []
    },
    {
      "cell_type": "code",
      "metadata": {
        "id": "Fi0U8ogYYOB2",
        "outputId": "fb2fd541-21f5-4838-a818-2e0ca18ae972",
        "colab": {
          "base_uri": "https://localhost:8080/"
        }
      },
      "source": [
        "model.fit(X_train,y_train,epochs=10,validation_data=(X_test,y_test),batch_size=128)"
      ],
      "execution_count": 262,
      "outputs": [
        {
          "output_type": "stream",
          "text": [
            "Epoch 1/10\n",
            "5576/5576 [==============================] - 297s 53ms/step - loss: 0.6282 - accuracy: 0.7715 - val_loss: 0.5845 - val_accuracy: 0.7860\n",
            "Epoch 2/10\n",
            "5576/5576 [==============================] - 302s 54ms/step - loss: 0.5632 - accuracy: 0.7948 - val_loss: 0.5606 - val_accuracy: 0.7953\n",
            "Epoch 3/10\n",
            "5576/5576 [==============================] - 300s 54ms/step - loss: 0.5371 - accuracy: 0.8043 - val_loss: 0.5510 - val_accuracy: 0.7993\n",
            "Epoch 4/10\n",
            "5576/5576 [==============================] - 300s 54ms/step - loss: 0.5192 - accuracy: 0.8107 - val_loss: 0.5495 - val_accuracy: 0.8011\n",
            "Epoch 5/10\n",
            "5576/5576 [==============================] - 301s 54ms/step - loss: 0.5044 - accuracy: 0.8156 - val_loss: 0.5491 - val_accuracy: 0.8011\n",
            "Epoch 6/10\n",
            "5576/5576 [==============================] - 306s 55ms/step - loss: 0.4911 - accuracy: 0.8207 - val_loss: 0.5458 - val_accuracy: 0.8025\n",
            "Epoch 7/10\n",
            "5576/5576 [==============================] - 303s 54ms/step - loss: 0.4785 - accuracy: 0.8249 - val_loss: 0.5518 - val_accuracy: 0.8030\n",
            "Epoch 8/10\n",
            "5576/5576 [==============================] - 303s 54ms/step - loss: 0.4664 - accuracy: 0.8293 - val_loss: 0.5557 - val_accuracy: 0.8014\n",
            "Epoch 9/10\n",
            "5576/5576 [==============================] - 307s 55ms/step - loss: 0.4548 - accuracy: 0.8333 - val_loss: 0.5596 - val_accuracy: 0.8018\n",
            "Epoch 10/10\n",
            "5576/5576 [==============================] - 309s 55ms/step - loss: 0.4434 - accuracy: 0.8373 - val_loss: 0.5714 - val_accuracy: 0.7992\n"
          ],
          "name": "stdout"
        },
        {
          "output_type": "execute_result",
          "data": {
            "text/plain": [
              "<tensorflow.python.keras.callbacks.History at 0x7f5d04e64080>"
            ]
          },
          "metadata": {
            "tags": []
          },
          "execution_count": 262
        }
      ]
    },
    {
      "cell_type": "code",
      "metadata": {
        "id": "dCBzXvUZrJT4"
      },
      "source": [
        "from sklearn.metrics import confusion_matrix\n"
      ],
      "execution_count": 266,
      "outputs": []
    },
    {
      "cell_type": "code",
      "metadata": {
        "id": "NKErI1IsrQt3",
        "outputId": "8a260bde-56a5-4f3d-9a8d-06bc7f5f03a8",
        "colab": {
          "base_uri": "https://localhost:8080/"
        }
      },
      "source": [
        "y_pred=model.predict_classes(X_test)\n"
      ],
      "execution_count": 267,
      "outputs": [
        {
          "output_type": "stream",
          "text": [
            "WARNING:tensorflow:From <ipython-input-267-66f7fe571d01>:1: Sequential.predict_classes (from tensorflow.python.keras.engine.sequential) is deprecated and will be removed after 2021-01-01.\n",
            "Instructions for updating:\n",
            "Please use instead:* `np.argmax(model.predict(x), axis=-1)`,   if your model does multi-class classification   (e.g. if it uses a `softmax` last-layer activation).* `(model.predict(x) > 0.5).astype(\"int32\")`,   if your model does binary classification   (e.g. if it uses a `sigmoid` last-layer activation).\n"
          ],
          "name": "stdout"
        }
      ]
    },
    {
      "cell_type": "code",
      "metadata": {
        "id": "PK0uNmyWr134",
        "outputId": "25c8a704-0a5a-4902-c438-03e38be3d671",
        "colab": {
          "base_uri": "https://localhost:8080/"
        }
      },
      "source": [
        "y_pred"
      ],
      "execution_count": 268,
      "outputs": [
        {
          "output_type": "execute_result",
          "data": {
            "text/plain": [
              "array([4, 2, 2, ..., 4, 2, 4])"
            ]
          },
          "metadata": {
            "tags": []
          },
          "execution_count": 268
        }
      ]
    },
    {
      "cell_type": "code",
      "metadata": {
        "id": "ltbdozTarWCl",
        "outputId": "2df86fde-65fe-43b1-a539-429ef0abd801",
        "colab": {
          "base_uri": "https://localhost:8080/"
        }
      },
      "source": [
        "confusion_matrix(y_test,y_pred)\n"
      ],
      "execution_count": 269,
      "outputs": [
        {
          "output_type": "execute_result",
          "data": {
            "text/plain": [
              "array([[12206, 15118, 56002,  9217, 57860],\n",
              "       [ 8131, 12564, 39961,  7255, 44673],\n",
              "       [  388,   652,  2419,   428,  3393],\n",
              "       [ 1054,  1390,  5041,   910,  4307],\n",
              "       [ 1570,  2044,  7438,  1454, 10393]])"
            ]
          },
          "metadata": {
            "tags": []
          },
          "execution_count": 269
        }
      ]
    },
    {
      "cell_type": "code",
      "metadata": {
        "id": "GixXWRhMqI5D"
      },
      "source": [
        "##Adding Dropout"
      ],
      "execution_count": 270,
      "outputs": []
    },
    {
      "cell_type": "code",
      "metadata": {
        "id": "wqfz4U7RqMPo",
        "outputId": "921e5841-0a83-48b2-d7e0-e783094af313",
        "colab": {
          "base_uri": "https://localhost:8080/"
        }
      },
      "source": [
        "from tensorflow.keras.layers import Dropout\n",
        "\n",
        "embedding_vector_features=80\n",
        "model=Sequential()\n",
        "model.add(Embedding(voc_size,embedding_vector_features,input_length=sent_length))\n",
        "model.add(Dropout(0.3))\n",
        "model.add(LSTM(200))\n",
        "model.add(Dropout(0.3))\n",
        "model.add(Dense(5,activation='softmax'))\n",
        "model.compile(loss='sparse_categorical_crossentropy',optimizer='adam',metrics=['accuracy'])\n",
        "print(model.summary())"
      ],
      "execution_count": 271,
      "outputs": [
        {
          "output_type": "stream",
          "text": [
            "Model: \"sequential_9\"\n",
            "_________________________________________________________________\n",
            "Layer (type)                 Output Shape              Param #   \n",
            "=================================================================\n",
            "embedding_9 (Embedding)      (None, 20, 80)            640000    \n",
            "_________________________________________________________________\n",
            "dropout_4 (Dropout)          (None, 20, 80)            0         \n",
            "_________________________________________________________________\n",
            "lstm_9 (LSTM)                (None, 200)               224800    \n",
            "_________________________________________________________________\n",
            "dropout_5 (Dropout)          (None, 200)               0         \n",
            "_________________________________________________________________\n",
            "dense_9 (Dense)              (None, 5)                 1005      \n",
            "=================================================================\n",
            "Total params: 865,805\n",
            "Trainable params: 865,805\n",
            "Non-trainable params: 0\n",
            "_________________________________________________________________\n",
            "None\n"
          ],
          "name": "stdout"
        }
      ]
    },
    {
      "cell_type": "code",
      "metadata": {
        "id": "DY8wKBn0rJVB",
        "outputId": "a820725e-8693-4a73-bb79-8cf791c4f20c",
        "colab": {
          "base_uri": "https://localhost:8080/"
        }
      },
      "source": [
        "model.fit(X_train,y_train,epochs=10,validation_data=(X_test,y_test),batch_size=128)"
      ],
      "execution_count": 272,
      "outputs": [
        {
          "output_type": "stream",
          "text": [
            "Epoch 1/10\n",
            "5576/5576 [==============================] - 780s 140ms/step - loss: 0.6300 - accuracy: 0.7714 - val_loss: 0.5780 - val_accuracy: 0.7885\n",
            "Epoch 2/10\n",
            "5576/5576 [==============================] - 801s 144ms/step - loss: 0.5699 - accuracy: 0.7931 - val_loss: 0.5594 - val_accuracy: 0.7957\n",
            "Epoch 3/10\n",
            "5576/5576 [==============================] - 801s 144ms/step - loss: 0.5488 - accuracy: 0.8006 - val_loss: 0.5499 - val_accuracy: 0.7993\n",
            "Epoch 4/10\n",
            "5576/5576 [==============================] - 813s 146ms/step - loss: 0.5341 - accuracy: 0.8059 - val_loss: 0.5449 - val_accuracy: 0.8015\n",
            "Epoch 5/10\n",
            "5576/5576 [==============================] - 804s 144ms/step - loss: 0.5225 - accuracy: 0.8098 - val_loss: 0.5425 - val_accuracy: 0.8031\n",
            "Epoch 6/10\n",
            "5576/5576 [==============================] - 799s 143ms/step - loss: 0.5125 - accuracy: 0.8131 - val_loss: 0.5417 - val_accuracy: 0.8036\n",
            "Epoch 7/10\n",
            "5576/5576 [==============================] - 801s 144ms/step - loss: 0.5042 - accuracy: 0.8163 - val_loss: 0.5428 - val_accuracy: 0.8043\n",
            "Epoch 8/10\n",
            "5576/5576 [==============================] - 808s 145ms/step - loss: 0.4968 - accuracy: 0.8186 - val_loss: 0.5409 - val_accuracy: 0.8052\n",
            "Epoch 9/10\n",
            "5576/5576 [==============================] - 815s 146ms/step - loss: 0.4895 - accuracy: 0.8212 - val_loss: 0.5430 - val_accuracy: 0.8047\n",
            "Epoch 10/10\n",
            "5576/5576 [==============================] - 810s 145ms/step - loss: 0.4835 - accuracy: 0.8230 - val_loss: 0.5427 - val_accuracy: 0.8053\n"
          ],
          "name": "stdout"
        },
        {
          "output_type": "execute_result",
          "data": {
            "text/plain": [
              "<tensorflow.python.keras.callbacks.History at 0x7f5d056cf668>"
            ]
          },
          "metadata": {
            "tags": []
          },
          "execution_count": 272
        }
      ]
    },
    {
      "cell_type": "code",
      "metadata": {
        "id": "Lk3z7IQtLAAE"
      },
      "source": [
        "from sklearn.metrics import classification_report,precision_score,plot_confusion_matrix"
      ],
      "execution_count": 304,
      "outputs": []
    },
    {
      "cell_type": "code",
      "metadata": {
        "id": "ppFg8IliLCR6"
      },
      "source": [
        "y_pred=model.predict_classes(X_test)"
      ],
      "execution_count": 274,
      "outputs": []
    },
    {
      "cell_type": "code",
      "metadata": {
        "id": "NqsfJGzZx3mP"
      },
      "source": [
        "cf_matrix=confusion_matrix(y_test,y_pred)"
      ],
      "execution_count": 285,
      "outputs": []
    },
    {
      "cell_type": "code",
      "metadata": {
        "id": "4MjRnkWYw9Yd",
        "outputId": "154fd361-2960-469b-804f-ca5b2ccebf37",
        "colab": {
          "base_uri": "https://localhost:8080/"
        }
      },
      "source": [
        "print(confusion_matrix(y_test,y_pred,labels=[0,1,2,3,4]))"
      ],
      "execution_count": 294,
      "outputs": [
        {
          "output_type": "stream",
          "text": [
            "[[137859  11572    139    529    304]\n",
            " [ 10164  97243    800    415   3962]\n",
            " [   115   1970   3140      0   2055]\n",
            " [  6706   5312      7    670      7]\n",
            " [   431  13566   1487      2   7413]]\n"
          ],
          "name": "stdout"
        }
      ]
    },
    {
      "cell_type": "code",
      "metadata": {
        "id": "kYsF3wF36v1d"
      },
      "source": [
        "FP = cf_matrix.sum(axis=0) - np.diag(cf_matrix) \n",
        "FN = cf_matrix.sum(axis=1) - np.diag(cf_matrix)\n",
        "TP = np.diag(cf_matrix)\n",
        "TN = cf_matrix.sum() - (FP + FN + TP)\n",
        "FP = FP.astype(float)\n",
        "FN = FN.astype(float)\n",
        "TP = TP.astype(float)\n",
        "TN = TN.astype(float)"
      ],
      "execution_count": 306,
      "outputs": []
    },
    {
      "cell_type": "code",
      "metadata": {
        "id": "F-qlL_f37MBH"
      },
      "source": [
        "TNR = TN/(TN+FP) "
      ],
      "execution_count": 307,
      "outputs": []
    },
    {
      "cell_type": "code",
      "metadata": {
        "id": "KG6nqk-T7Ozy",
        "outputId": "2e0f4fdc-6546-4072-c977-05958b65540a",
        "colab": {
          "base_uri": "https://localhost:8080/"
        }
      },
      "source": [
        "print('Specificity for the classes :',TNR)"
      ],
      "execution_count": 309,
      "outputs": [
        {
          "output_type": "stream",
          "text": [
            "Specificity for the classes : [0.88797479 0.83226754 0.99185165 0.99677316 0.97763713]\n"
          ],
          "name": "stdout"
        }
      ]
    },
    {
      "cell_type": "code",
      "metadata": {
        "id": "XebMSMLAx8TG",
        "outputId": "c5dc610c-4211-482a-f04b-7bd66b69498e",
        "colab": {
          "base_uri": "https://localhost:8080/",
          "height": 609
        }
      },
      "source": [
        "plt.figure(figsize=(10,10))\n",
        "sns.heatmap(cf_matrix, annot=True,cmap='Blues')"
      ],
      "execution_count": 298,
      "outputs": [
        {
          "output_type": "execute_result",
          "data": {
            "text/plain": [
              "<matplotlib.axes._subplots.AxesSubplot at 0x7f5c9d977da0>"
            ]
          },
          "metadata": {
            "tags": []
          },
          "execution_count": 298
        },
        {
          "output_type": "display_data",
          "data": {
            "image/png": "[encoded data removed]",
            "text/plain": [
              "<Figure size 720x720 with 2 Axes>"
            ]
          },
          "metadata": {
            "tags": [],
            "needs_background": "light"
          }
        }
      ]
    },
    {
      "cell_type": "code",
      "metadata": {
        "id": "Wiheo6YFyN9m",
        "outputId": "344b7e7f-a66f-490e-8751-a9ab18ebdb96",
        "colab": {
          "base_uri": "https://localhost:8080/",
          "height": 282
        }
      },
      "source": [
        "sns.heatmap(cf_matrix/np.sum(cf_matrix), annot=True, \n",
        "            fmt='.2%', cmap='Blues')"
      ],
      "execution_count": 288,
      "outputs": [
        {
          "output_type": "execute_result",
          "data": {
            "text/plain": [
              "<matplotlib.axes._subplots.AxesSubplot at 0x7f5c9dd85198>"
            ]
          },
          "metadata": {
            "tags": []
          },
          "execution_count": 288
        },
        {
          "output_type": "display_data",
          "data": {
            "image/png": "[encoded data removed]",
            "text/plain": [
              "<Figure size 432x288 with 2 Axes>"
            ]
          },
          "metadata": {
            "tags": [],
            "needs_background": "light"
          }
        }
      ]
    },
    {
      "cell_type": "code",
      "metadata": {
        "id": "kEinnfFL2B0d",
        "outputId": "569d4759-3db0-48de-dcae-50c2c289b862",
        "colab": {
          "base_uri": "https://localhost:8080/"
        }
      },
      "source": [
        "print(\"Precision Score : \",precision_score(y_test, y_pred, average='micro'))"
      ],
      "execution_count": 300,
      "outputs": [
        {
          "output_type": "stream",
          "text": [
            "Precision Score :  0.8053310578419449\n"
          ],
          "name": "stdout"
        }
      ]
    },
    {
      "cell_type": "code",
      "metadata": {
        "id": "iR1re0oLLND1",
        "outputId": "6070d46c-53c7-48d8-d4de-97572712610e",
        "colab": {
          "base_uri": "https://localhost:8080/"
        }
      },
      "source": [
        "print(classification_report(y_test,y_pred))"
      ],
      "execution_count": 275,
      "outputs": [
        {
          "output_type": "stream",
          "text": [
            "              precision    recall  f1-score   support\n",
            "\n",
            "           0       0.89      0.92      0.90    150403\n",
            "           1       0.75      0.86      0.80    112584\n",
            "           2       0.56      0.43      0.49      7280\n",
            "           3       0.41      0.05      0.09     12702\n",
            "           4       0.54      0.32      0.40     22899\n",
            "\n",
            "    accuracy                           0.81    305868\n",
            "   macro avg       0.63      0.52      0.54    305868\n",
            "weighted avg       0.78      0.81      0.78    305868\n",
            "\n"
          ],
          "name": "stdout"
        }
      ]
    },
    {
      "cell_type": "code",
      "metadata": {
        "id": "zi01MwUR9WVk"
      },
      "source": [
        "model.save('ListPriceSuggestion_model.h5')"
      ],
      "execution_count": 313,
      "outputs": []
    },
    {
      "cell_type": "code",
      "metadata": {
        "id": "AAHxK9Pa9Z3G"
      },
      "source": [
        ""
      ],
      "execution_count": null,
      "outputs": []
    }
  ]
}